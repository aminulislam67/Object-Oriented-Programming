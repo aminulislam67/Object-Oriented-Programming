{
 "cells": [
  {
   "cell_type": "code",
   "execution_count": null,
   "id": "3ee209bb",
   "metadata": {},
   "outputs": [],
   "source": [
    "#STRING\n",
    "\n"
   ]
  },
  {
   "cell_type": "code",
   "execution_count": 14,
   "id": "df06a8b9",
   "metadata": {},
   "outputs": [
    {
     "name": "stdout",
     "output_type": "stream",
     "text": [
      "Enter String:: ApplE\n",
      "apple\n"
     ]
    }
   ],
   "source": [
    "#Ans(1)\n",
    "given_string=input(\"Enter String:: \")\n",
    "up=0\n",
    "low=0\n",
    "for char in given_string:\n",
    "    if ord(char)>=65 and ord(char)<=90:\n",
    "        up=up+1\n",
    "    else:\n",
    "        low=low+1\n",
    "if up > low:\n",
    "    print(given_string.upper())\n",
    "elif low>=up:\n",
    "    print(given_string.lower())\n",
    "        "
   ]
  },
  {
   "cell_type": "code",
   "execution_count": 51,
   "id": "f3908d01",
   "metadata": {},
   "outputs": [
    {
     "name": "stdout",
     "output_type": "stream",
     "text": [
      "Enter String: Hello\n",
      "WORD\n"
     ]
    }
   ],
   "source": [
    "#Ans(2)\n",
    "\n",
    "given_string=input(\"Enter String: \")\n",
    "\n",
    "number=0\n",
    "mixed=0\n",
    "word=0\n",
    "for x in given_string:\n",
    "    if (ord(x)>=65 and ord(x)<=90) or (ord(x)>=97 and ord(x)<=122):\n",
    "        word=word+1    \n",
    "    elif ord(x)>=48 and ord(x)<=57:\n",
    "        number=number+1\n",
    "if  word>0 and number>0:\n",
    "    print(\"MIXED\")\n",
    "elif number>0:\n",
    "    print(\"NUMBER\")\n",
    "else:\n",
    "      print(\"WORD\")"
   ]
  },
  {
   "cell_type": "code",
   "execution_count": 2,
   "id": "a48048eb",
   "metadata": {},
   "outputs": [
    {
     "name": "stdout",
     "output_type": "stream",
     "text": [
      "Enter String: coDIng\n",
      "BLANK\n"
     ]
    }
   ],
   "source": [
    "#Ans(3)\n",
    "given_str=input(\"Enter String: \")\n",
    "fi=0\n",
    "si=0\n",
    "out=\"\"\n",
    "for x in range(0,len(given_str)):\n",
    "    if 65<=ord(given_str[x])<=90:\n",
    "        fi=0+x\n",
    "        break\n",
    "for x in range(0,len(given_str)):\n",
    "    if 65<=ord(given_str[x])<=90 :\n",
    "        si=0+x\n",
    "    if si-fi==1:\n",
    "        out=\"BLANK\"\n",
    "    \n",
    "    else:\n",
    "        out=given_str[fi+1:si]\n",
    "print(out)\n",
    "    \n"
   ]
  },
  {
   "cell_type": "code",
   "execution_count": 4,
   "id": "e390adaa",
   "metadata": {},
   "outputs": [
    {
     "name": "stdout",
     "output_type": "stream",
     "text": [
      "Enter String: This book is good too!\n",
      "This book is good too!\n"
     ]
    }
   ],
   "source": [
    "#Ans(4)\n",
    "\n",
    "str=input(\"Enter String: \")\n",
    "if \"too\" and \"good\" in str:\n",
    "    a=str.replace(\"too good\" ,\"excellent\")\n",
    "    print(a)\n",
    "else:\n",
    "    print(str)"
   ]
  },
  {
   "cell_type": "code",
   "execution_count": 66,
   "id": "c05de820",
   "metadata": {},
   "outputs": [
    {
     "name": "stdout",
     "output_type": "stream",
     "text": [
      "Enter First String: harry\n",
      "Enter Second String: hermione\n",
      "hrrhr\n"
     ]
    }
   ],
   "source": [
    "#Ans(5)\n",
    "\n",
    "first_string=input(\"Enter First String: \")\n",
    "second_string=input(\"Enter Second String: \")\n",
    "new_string=\"\"\n",
    "flag=False\n",
    "for x in first_string:\n",
    "    if x in second_string:\n",
    "        new_string=new_string+x\n",
    "        flag=True\n",
    "for x in second_string:\n",
    "    if x in first_string: \n",
    "        new_string=new_string+x\n",
    "        flag=True\n",
    "if flag  == True:\n",
    "     print(new_string)\n",
    "else:\n",
    "    print(\"Nothing is Common\")\n",
    "        "
   ]
  },
  {
   "cell_type": "code",
   "execution_count": 6,
   "id": "e687f6b0",
   "metadata": {},
   "outputs": [
    {
     "name": "stdout",
     "output_type": "stream",
     "text": [
      "Enter String: ohmybracu\n",
      "Uppercase character missing,Digit missing,Special character missing\n"
     ]
    }
   ],
   "source": [
    "#Ans(6)\n",
    "given_str=input(\"Enter String: \")\n",
    "num=0\n",
    "up=0\n",
    "low=0\n",
    "sc=0\n",
    "string=\"\"\n",
    "for x in given_str:\n",
    "    if ord(x)>=65 and ord(x)<=90:\n",
    "        up=up+1\n",
    "    elif ord(x)>=97 and ord(x)<=122:\n",
    "        low=low+1\n",
    "    elif ord(x)>=48 and ord(x)<=57:\n",
    "        num=num+1\n",
    "    else:\n",
    "        sc=sc+1\n",
    "if up >0 and low>0 and num>0 and sc >0:\n",
    "    print(\"OK\")\n",
    "if low==0:\n",
    "    string=string+\"Lowercase character missing,\"\n",
    "if  up==0:\n",
    "    string= string+\"Uppercase character missing,\"\n",
    "if num==0:\n",
    "    string= string+\"Digit missing,\"\n",
    "if  sc==0 :\n",
    "    string=string+\"Special character missing,\"\n",
    "print(string[0:-1])"
   ]
  },
  {
   "cell_type": "code",
   "execution_count": 4,
   "id": "f0c45708",
   "metadata": {},
   "outputs": [],
   "source": [
    "#LIST"
   ]
  },
  {
   "cell_type": "code",
   "execution_count": 54,
   "id": "bb048b83",
   "metadata": {},
   "outputs": [
    {
     "name": "stdout",
     "output_type": "stream",
     "text": [
      "Enter your value: 10\n",
      "Enter your value: 20\n",
      "Enter your value: 20\n",
      "Enter your value: 30\n",
      "Enter your value: 10\n",
      "Enter your value: 50\n",
      "Enter your value: 90\n",
      "Enter your value: STOP\n",
      "10 - 2 times\n",
      "20 - 2 times\n",
      "30 - 1 times\n",
      "50 - 1 times\n",
      "90 - 1 times\n"
     ]
    }
   ],
   "source": [
    "#Ans(1)\n",
    "l=[]\n",
    "l2=[]\n",
    "while True:\n",
    "    give_number=input(\"Enter your value: \")\n",
    "    if give_number==\"STOP\":\n",
    "        break\n",
    "    a=int(give_number)\n",
    "    l.append(a)\n",
    "for x in l:\n",
    "    c=0\n",
    "    for y in l:\n",
    "        if x==y:\n",
    "            c=c+1\n",
    "    if x not in l2:\n",
    "        print(x,\"-\",c,\"times\")\n",
    "    l2.append(x)"
   ]
  },
  {
   "cell_type": "code",
   "execution_count": 6,
   "id": "180af8a7",
   "metadata": {},
   "outputs": [
    {
     "name": "stdout",
     "output_type": "stream",
     "text": [
      "Enter Length: 4\n",
      "Enter List Value: 1 2 3\n",
      "Enter List Value: 4 5 6\n",
      "Enter List Value: 10 11 12\n",
      "Enter List Value: 7 8 9\n",
      "33\n",
      "[10, 11, 12]\n"
     ]
    }
   ],
   "source": [
    "#ANS(2)\n",
    "max_list=[]\n",
    "max_sum=0\n",
    "length=int(input(\"Enter Length: \"))\n",
    "for x in range(length):\n",
    "    l_val=input(\"Enter List Value: \")\n",
    "    a=l_val.split()\n",
    "    l=[]\n",
    "    for y in a:\n",
    "        b=int(y)\n",
    "        l.append(b)\n",
    "    sum_l=sum(l)\n",
    "    if max_sum <= sum_l:\n",
    "        max_sum=0+sum_l\n",
    "        max_list=l\n",
    "print(max_sum)\n",
    "print(max_list)\n",
    "        "
   ]
  },
  {
   "cell_type": "code",
   "execution_count": 8,
   "id": "0e453848",
   "metadata": {},
   "outputs": [
    {
     "name": "stdout",
     "output_type": "stream",
     "text": [
      "Enter Length: 2\n",
      "Enter List Value: 2 3 6\n",
      "Enter List Value: 3 4 5\n",
      "[6, 8, 10, 9, 12, 15, 18, 24, 30]\n"
     ]
    }
   ],
   "source": [
    "#Ans(3)\n",
    "l=[]\n",
    "l2=[]\n",
    "l3=[]\n",
    "l4=[]\n",
    "length=int(input(\"Enter Length: \"))\n",
    "for x in range(length):\n",
    "    l_val=input(\"Enter List Value: \")\n",
    "    a=l_val.split()\n",
    "    for y in a:\n",
    "        b=int(y)\n",
    "        l.append(b)\n",
    "l2=l[:3]\n",
    "l3=l[3:]\n",
    "for x in l2:\n",
    "    for y in l3:\n",
    "        l4.append(x*y)\n",
    "print(l4)"
   ]
  },
  {
   "cell_type": "markdown",
   "id": "15a5170a",
   "metadata": {},
   "source": [
    "\n",
    "\n",
    "\n",
    "\n"
   ]
  },
  {
   "cell_type": "code",
   "execution_count": 19,
   "id": "8fc53922",
   "metadata": {},
   "outputs": [
    {
     "name": "stdout",
     "output_type": "stream",
     "text": [
      "Enter Digit: 1 4 2 3\n",
      "UB Jumper\n",
      "Enter Digit: 2 1 4 6 10\n",
      "UB Jumper\n",
      "Enter Digit: 1 4 2 -1 6\n",
      "Not UB Jumper\n",
      "Enter Digit: STOP\n"
     ]
    }
   ],
   "source": [
    "#Ans(4)\n",
    "l=[]\n",
    "l2=[]\n",
    "l3=[]\n",
    "while True:\n",
    "    count=0\n",
    "    a=input(\"Enter Digit: \")\n",
    "    if a==\"STOP\":\n",
    "        break\n",
    "    b=a.split()\n",
    "    for y in range(1,len(b)):\n",
    "        sub=abs(int(b[y])-int(b[y-1]))\n",
    "        l2.append(sub)\n",
    "        l3.append(y)\n",
    "    for x in l2:\n",
    "        if x in l3:\n",
    "            count+=1\n",
    "    if count==len(l2):\n",
    "        print(\"UB Jumper\")\n",
    "    else:\n",
    "        print(\"Not UB Jumper\")\n",
    "                \n",
    "        \n",
    "    "
   ]
  },
  {
   "cell_type": "code",
   "execution_count": 13,
   "id": "17577db6",
   "metadata": {},
   "outputs": [
    {
     "name": "stdout",
     "output_type": "stream",
     "text": [
      "Enter String: Bracu1234\n",
      "acruB1324\n"
     ]
    }
   ],
   "source": [
    "#Ans(5)\n",
    "num=0\n",
    "cl=0\n",
    "sl=0\n",
    "l1=[]\n",
    "l2=[]\n",
    "l3=[]\n",
    "l4=[]\n",
    "l5=[]\n",
    "l6=[]\n",
    "string=\"\"\n",
    "given_string=input(\"Enter String: \")\n",
    "for x in given_string:\n",
    "    if ord(x)>=65 and ord(x)<=90:\n",
    "        cl=cl+1\n",
    "        l1.append(x)\n",
    "    elif ord(x)>=97 and ord(x)<=122:\n",
    "        sl=sl+1\n",
    "        l2.append(x)\n",
    "    elif ord(x)>=48 and ord(x)<=57:\n",
    "        num=num+1\n",
    "        a=int(num)\n",
    "        l3.append(a)\n",
    "for y in l3:\n",
    "    if y%2==0:\n",
    "        l4.append(y)\n",
    "    else:\n",
    "        l5.append(y)\n",
    "a=sorted(l1)\n",
    "b=sorted(l2)\n",
    "c=sorted(l3)\n",
    "d=sorted(l4)\n",
    "e=sorted(l5)\n",
    "for x in b:\n",
    "    string=string+x\n",
    "for x in a:\n",
    "    string=string+x\n",
    "for x in e:\n",
    "    string=string+str(x)\n",
    "for x in d:\n",
    "    string=string+str(x)\n",
    "print(string)"
   ]
  },
  {
   "cell_type": "code",
   "execution_count": 19,
   "id": "5e1d1c80",
   "metadata": {},
   "outputs": [
    {
     "name": "stdout",
     "output_type": "stream",
     "text": [
      "Ënter Value: 6 5\n",
      "Enter Value of Members: 0 0 0 0 0 0\n",
      "2\n"
     ]
    }
   ],
   "source": [
    "#Ans(6)\n",
    "\n",
    "l=[]\n",
    "l2=[]\n",
    "num=input(\"Ënter Value: \")\n",
    "a=num.split()\n",
    "for x in a:\n",
    "    d=int(x) \n",
    "    l.append(d)\n",
    "num2=l[1]\n",
    "num3=input('Enter Value of Members: ')\n",
    "b=num3.split()\n",
    "for y in b:\n",
    "    e=int(y)\n",
    "    l2.append(e)\n",
    "c=0\n",
    "for z in l2:\n",
    "    if z+num2<=5:\n",
    "        c=c+1\n",
    "print(c//3)"
   ]
  },
  {
   "cell_type": "code",
   "execution_count": 18,
   "id": "7f0b2ec1",
   "metadata": {},
   "outputs": [
    {
     "name": "stdout",
     "output_type": "stream",
     "text": [
      "Enter the key of first dictionary: a\n",
      "Enter the value of first dictionary: 100\n",
      "Enter the key of first dictionary: b\n",
      "Enter the value of first dictionary: 100\n",
      "Enter the key of first dictionary: c\n",
      "Enter the value of first dictionary: 200\n",
      "Enter the key of first dictionary: d\n",
      "Enter the value of first dictionary: 300\n",
      "Enter the key of second dictionary: a\n",
      "Enter the value of second dictionary: 300\n",
      "Enter the key of second dictionary: b\n",
      "Enter the value of second dictionary: 200\n",
      "Enter the key of second dictionary: d\n",
      "Enter the value of second dictionary: 400\n",
      "Enter the key of second dictionary: e\n",
      "Enter the value of second dictionary: 200\n",
      "{'a': 400, 'b': 300, 'c': 200, 'd': 700, 'e': 200}\n",
      "Values: (200, 300, 400, 700)\n"
     ]
    }
   ],
   "source": [
    "#Ans(1)\n",
    "\n",
    "new_dict1={}\n",
    "new_dict2={}\n",
    "new_dict3={}\n",
    "l=[]\n",
    "l2=[]\n",
    "for x in range(4):\n",
    "    key1=input(\"Enter the key of first dictionary: \")\n",
    "    value1=int(input(\"Enter the value of first dictionary: \"))\n",
    "    new_dict1[key1]=value1\n",
    "       \n",
    "for y in range(4):\n",
    "    key2=input(\"Enter the key of second dictionary: \")\n",
    "    value2=int(input(\"Enter the value of second dictionary: \"))\n",
    "    new_dict2[key2]=value2\n",
    "    \n",
    "new_dict3=new_dict1.copy()\n",
    "new_dict3.update(new_dict2)\n",
    "\n",
    "for key3,value3 in new_dict1.items():\n",
    "    for key4,value4 in new_dict2.items():\n",
    "        if key3==key4:\n",
    "            new_dict3[key3]=(value3+value4)\n",
    "print(new_dict3)\n",
    "for value in new_dict3.values():\n",
    "    l.append(value)\n",
    "for x in l:\n",
    "    if x not in l2:\n",
    "        l2.append(x)\n",
    "a=sorted(l2)\n",
    "b=tuple(a)\n",
    "print(\"Values:\",b)"
   ]
  },
  {
   "cell_type": "code",
   "execution_count": 3,
   "id": "eab6e5a4",
   "metadata": {},
   "outputs": [
    {
     "name": "stdout",
     "output_type": "stream",
     "text": [
      "Enter Number: 10\n",
      "Enter Number: 20\n",
      "Enter Number: 20\n",
      "Enter Number: 30\n",
      "Enter Number: 10\n",
      "Enter Number: 50\n",
      "Enter Number: 90\n",
      "Enter Number: STOP\n",
      "10 - 2 times\n",
      "20 - 2 times\n",
      "30 - 1 times\n",
      "50 - 1 times\n",
      "90 - 1 times\n"
     ]
    }
   ],
   "source": [
    "#Ans(2)\n",
    "new_dict={} \n",
    "while True:\n",
    "    give_number=input(\"Enter Number: \")\n",
    "    if give_number== \"STOP\" :\n",
    "        break\n",
    "    else:\n",
    "        num=int(give_number)\n",
    "        if num in new_dict:\n",
    "            new_dict[num]=new_dict[num]+1\n",
    "        else:\n",
    "            new_dict[num]=1         \n",
    "for key,value in new_dict.items():\n",
    "    print(key,\"-\",value,\"times\")"
   ]
  },
  {
   "cell_type": "code",
   "execution_count": 1,
   "id": "06a7091f",
   "metadata": {},
   "outputs": [
    {
     "name": "stdout",
     "output_type": "stream",
     "text": [
      "Enter Dictionary: key1 : value1, key2 : value2, key3 : value1\n",
      "{' value1': ['key1 ', ' key3 '], ' value2': [' key2 ']}\n"
     ]
    }
   ],
   "source": [
    "#Ans(3)\n",
    "new_dict={}\n",
    "dic=input(\"Enter Dictionary: \").split(\",\")\n",
    "for  x in dic:\n",
    "    key,value=x.split(\":\")\n",
    "    if value not in new_dict:\n",
    "        new_dict[value]=[key]\n",
    "    else:\n",
    "        new_dict[value].append(key)\n",
    "print(new_dict)           "
   ]
  },
  {
   "cell_type": "code",
   "execution_count": 15,
   "id": "6f1233aa",
   "metadata": {},
   "outputs": [
    {
     "name": "stdout",
     "output_type": "stream",
     "text": [
      "Enter First String: evil\n",
      "Enter Second String: live\n",
      "Those strings are anagrams.\n"
     ]
    }
   ],
   "source": [
    "#Ans(4)\n",
    "\n",
    "new_dict1 = {}\n",
    "new_dict2 = {}\n",
    "string1 = input(\"Enter First String: \")\n",
    "string2 = input(\"Enter Second String: \")\n",
    "a=string1.lower()\n",
    "b=string2.lower()\n",
    "for x in a:\n",
    "    new_dict1[x] = a.count(x)\n",
    "for y in b:\n",
    "    new_dict2[y] = b.count(y)\n",
    "if new_dict1 == new_dict2:\n",
    "    print(\"Those strings are anagrams.\")\n",
    "else:\n",
    "    print(\"Those strings are not anagrams.\")"
   ]
  },
  {
   "cell_type": "code",
   "execution_count": 16,
   "id": "7c3cb6ab",
   "metadata": {},
   "outputs": [
    {
     "name": "stdout",
     "output_type": "stream",
     "text": [
      "Enter String Hello, World!\n",
      "4433555555666110966677755531111\n"
     ]
    }
   ],
   "source": [
    "#Ans(5)\n",
    "\n",
    "given_dict={'1':'.,?!:','2':'ABC','3':'DEF','4':'GHI','5':'JKL','6':'MNO','7':'PQRS','8':'TUV','9':'WXYZ','0':' '}\n",
    "string=input(\"Enter String \").upper()\n",
    "new_string=\"\"\n",
    "count=0\n",
    "for x in string:\n",
    "    for key,value in given_dict.items():\n",
    "        if x in value:\n",
    "            count=value.index(x)+1\n",
    "            for y in range(count):\n",
    "                new_string=new_string+str(key)\n",
    "print(new_string)"
   ]
  },
  {
   "cell_type": "code",
   "execution_count": 16,
   "id": "09941dc8",
   "metadata": {},
   "outputs": [
    {
     "name": "stdout",
     "output_type": "stream",
     "text": [
      "Sum: 20\n",
      "Sum: 38\n",
      "Average:4.75\n",
      "-----------------------------\n",
      "Average:0\n",
      "Sum: 15\n"
     ]
    }
   ],
   "source": [
    "class myList():\n",
    "   def __init__(self,*a):\n",
    "     self.list1=[]\n",
    "     self.sum=0\n",
    "     for i in a:\n",
    "        self.list1.append(i)\n",
    "   def sum1(self):\n",
    "     for i in self.list1:\n",
    "         self.sum+=i\n",
    "     print(f'Sum: {self.sum}')\n",
    "   def merge(self,*b):\n",
    "    self.sum=0\n",
    "    for i in b:\n",
    "      self.list1.append(i)\n",
    "   def average(self):\n",
    "    if len(self.list1)==0:\n",
    "         print(\"Average:0\")\n",
    "    else:\n",
    "        print(f\"Average:{self.sum/len(self.list1)}\")\n",
    "    \n",
    "l1 =  myList(2,3,4,5,6) #you might need a list inside your class to store the values\n",
    "l1.sum1()\n",
    "l1.merge(4,5,9)\n",
    "l1.sum1()\n",
    "l1.average()\n",
    "print('-----------------------------')\n",
    "l2 =  myList()\n",
    "l2.average()\n",
    "l2.merge(1,2,4,8)\n",
    "l2.sum1()"
   ]
  },
  {
   "cell_type": "code",
   "execution_count": null,
   "id": "16a06152",
   "metadata": {},
   "outputs": [],
   "source": []
  }
 ],
 "metadata": {
  "kernelspec": {
   "display_name": "Python 3 (ipykernel)",
   "language": "python",
   "name": "python3"
  },
  "language_info": {
   "codemirror_mode": {
    "name": "ipython",
    "version": 3
   },
   "file_extension": ".py",
   "mimetype": "text/x-python",
   "name": "python",
   "nbconvert_exporter": "python",
   "pygments_lexer": "ipython3",
   "version": "3.9.13"
  }
 },
 "nbformat": 4,
 "nbformat_minor": 5
}
