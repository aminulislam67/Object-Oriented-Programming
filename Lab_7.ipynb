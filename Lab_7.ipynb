{
 "cells": [
  {
   "cell_type": "markdown",
   "id": "eb1c29b9",
   "metadata": {},
   "source": [
    "# Task 1"
   ]
  },
  {
   "cell_type": "code",
   "execution_count": 1,
   "id": "b97b5bd4",
   "metadata": {},
   "outputs": [
    {
     "name": "stdout",
     "output_type": "stream",
     "text": [
      "Name: default Department: BBA\n",
      "Name: Humpty Dumpty Department: BBA\n",
      "Name: Little Bo Peep Department: BBA\n"
     ]
    }
   ],
   "source": [
    "class Student:\n",
    "    def __init__(self, name='Just a student', dept='nothing'):\n",
    "        self.__name = name\n",
    "        self.__department = dept\n",
    "    def set_department(self, dept):\n",
    "        self.__department = dept\n",
    "    def get_name(self):\n",
    "        return self.__name\n",
    "    def set_name(self,name):\n",
    "        self.__name = name\n",
    "    def __str__(self):\n",
    "        return 'Name: '+self.__name+' Department: '+self.__department\n",
    "\n",
    "class BBA_Student(Student):\n",
    "    def __init__(self,name=\"default\",dept=\"BBA\"):\n",
    "        super().__init__(name,dept)\n",
    "\n",
    "print(BBA_Student())\n",
    "print(BBA_Student('Humpty Dumpty'))\n",
    "print(BBA_Student('Little Bo Peep'))"
   ]
  },
  {
   "cell_type": "code",
   "execution_count": 63,
   "id": "a1413c26",
   "metadata": {},
   "outputs": [
    {
     "name": "stdout",
     "output_type": "stream",
     "text": [
      "Part 1\n",
      "------\n",
      "(0 , 0)\n",
      "(0 , 1)\n",
      "(-1 , 1)\n",
      "(-1 , 0)\n",
      "(0 , 0)\n",
      "------\n",
      "Part 2\n",
      "------\n",
      "(0 , 0)\n",
      "(-1 , -1)\n",
      "False\n",
      "True\n",
      "------\n"
     ]
    }
   ],
   "source": [
    "class Vehicle: \n",
    "    def __init__(self): \n",
    "        self.x = 0 \n",
    "        self.y = 0 \n",
    "    def moveUp(self): \n",
    "        self.y+=1 \n",
    "    def moveDown(self):\n",
    "        self.y-=1 \n",
    "    def moveRight(self):\n",
    "        self.x+=1 \n",
    "    def moveLeft(self): \n",
    "         self.x-=1 \n",
    "    def __str__(self): \n",
    "        return '('+str(self.x)+' , '+str(self.y)+')' \n",
    "class Vehicle2010(Vehicle): \n",
    "    def __init__(self):\n",
    "        super().__init__() \n",
    "    def moveUpperRight(self):\n",
    "        self.x+=1\n",
    "        self.y+=1\n",
    "    def moveUpperLeft(self):\n",
    "        self.x+=1\n",
    "        self.y-=1\n",
    "    def moveLowerRight(self):\n",
    "        self.x+=1\n",
    "        self.y+=1\n",
    "    def moveLowerLeft(self):\n",
    "        self.x-=1\n",
    "        self.y-=1\n",
    "    def equals(self,other):\n",
    "        return self.x.__eq__(other.x) and self.y.__eq__(other.y)\n",
    "           \n",
    "print('Part 1')\n",
    "print('------')\n",
    "car = Vehicle()\n",
    "print(car)\n",
    "car.moveUp()\n",
    "print(car)\n",
    "car.moveLeft()\n",
    "print(car)\n",
    "car.moveDown()\n",
    "print(car)\n",
    "car.moveRight()\n",
    "print(car)\n",
    "print('------')\n",
    "print('Part 2')\n",
    "print('------')\n",
    "car1 = Vehicle2010()\n",
    "print(car1)\n",
    "car1.moveLowerLeft()\n",
    "print(car1)\n",
    "car2 = Vehicle2010()\n",
    "car2.moveLeft()\n",
    "print(car1.equals(car2))\n",
    "car2.moveDown()\n",
    "print(car1.equals(car2))\n",
    "print('------')"
   ]
  },
  {
   "cell_type": "markdown",
   "id": "57de7971",
   "metadata": {},
   "source": [
    "# Task 3"
   ]
  },
  {
   "cell_type": "code",
   "execution_count": 23,
   "id": "c962b547",
   "metadata": {},
   "outputs": [
    {
     "name": "stdout",
     "output_type": "stream",
     "text": [
      "Cricket Tournament Name: Default\n",
      "Number of Teams: 0\n",
      "Type: No type\n",
      "-----------------------\n",
      "Cricket Tournament Name: IPL\n",
      "Number of Teams: 10\n",
      "Type: t20\n",
      "-----------------------\n",
      "Tennis Tournament name: Roland Garros\n",
      "Number of Players: 128\n"
     ]
    }
   ],
   "source": [
    "class Tournament: \n",
    "    def __init__(self,name='Default'):\n",
    "        self.__name = name\n",
    "    def set_name(self,name): \n",
    "        self.__name = name \n",
    "    def get_name(self): \n",
    "        return self.__name\n",
    "class Cricket_Tournament(Tournament):\n",
    "    def __init__(self,name=\"Default\",num_player=0,Type=\"No type\"):\n",
    "        self.name=name\n",
    "        self.num_player=num_player\n",
    "        self.Type=Type\n",
    "    def detail(self):\n",
    "        return f\"Cricket Tournament Name: {self.name}\\nNumber of Teams: {self.num_player}\\nType: {self.Type}\"\n",
    "class Tennis_Tournament(Cricket_Tournament):\n",
    "    def __init__(self,name,num_team):\n",
    "        self.name=name\n",
    "        self.num_team=num_team\n",
    "    def detail(self):\n",
    "        return f\"Tennis Tournament name: {self.name}\\nNumber of Players: {self.num_team}\"\n",
    "ct1 = Cricket_Tournament()\n",
    "print(ct1.detail())\n",
    "print(\"-----------------------\")\n",
    "ct2 = Cricket_Tournament(\"IPL\",10,\"t20\")\n",
    "print(ct2.detail())\n",
    "print(\"-----------------------\")\n",
    "tt = Tennis_Tournament(\"Roland Garros\",128)\n",
    "print(tt.detail())"
   ]
  },
  {
   "cell_type": "markdown",
   "id": "01e0ac18",
   "metadata": {},
   "source": [
    "# Task 4"
   ]
  },
  {
   "cell_type": "code",
   "execution_count": 25,
   "id": "a0332f08",
   "metadata": {},
   "outputs": [
    {
     "name": "stdout",
     "output_type": "stream",
     "text": [
      "ID: 1 Title:The AlchemistPrice: 500\n",
      "ISBN: 97806 Publisher: HarperCollins\n",
      "-----------------------\n",
      "ID: 2 Title:ShottoPrice: 300\n",
      "Band: Warfaze Duration: 50minutes\n",
      "Genre: Hard Rock\n"
     ]
    }
   ],
   "source": [
    "class Product: \n",
    "    def __init__(self,id, title, price): \n",
    "        self.__id = id\n",
    "        self. __title = title\n",
    "        self. __price = price \n",
    "    def get_id_title_price(self): \n",
    "        return \"ID: \"+str(self.__id)+\" Title:\"+self.__title+ \"Price: \"+str(self.__price)\n",
    "class Book(Product):\n",
    "    def __init__(self,id, title, price, ISBN, publisher):\n",
    "        super().__init__(id, title, price)\n",
    "        self.ISBN= ISBN\n",
    "        self.publisher= publisher\n",
    "    def printDetail(self):\n",
    "        return f\"{super().get_id_title_price()}\\nISBN: {self.ISBN} Publisher: {self.publisher}\"\n",
    "class CD(Product):\n",
    "    def __init__(self,id, title, price, band, duration, genre):\n",
    "        super().__init__(id, title, price)\n",
    "        self.band= band\n",
    "        self.duration= duration\n",
    "        self.genre =genre\n",
    "    def printDetail(self):\n",
    "        return f'{super().get_id_title_price()}\\nBand: {self.band} Duration: {self.duration}minutes\\nGenre: {self.genre}'\n",
    "\n",
    "book = Book(1,\"The Alchemist\",500,\"97806\",\"HarperCollins\")\n",
    "print(book.printDetail())\n",
    "print(\"-----------------------\")\n",
    "cd = CD(2,\"Shotto\",300,\"Warfaze\",50,\"Hard Rock\")\n",
    "print(cd.printDetail()) \n",
    "    "
   ]
  },
  {
   "cell_type": "markdown",
   "id": "32fc54d4",
   "metadata": {},
   "source": [
    "# Task 5"
   ]
  },
  {
   "cell_type": "code",
   "execution_count": 27,
   "id": "4eba907f",
   "metadata": {},
   "outputs": [
    {
     "name": "stdout",
     "output_type": "stream",
     "text": [
      "Animal does not make sound\n",
      "meow\n",
      "bark\n"
     ]
    }
   ],
   "source": [
    "class Animal:\n",
    "    def __init__(self,sound): \n",
    "        self.__sound = sound \n",
    "    def makeSound(self): \n",
    "        return self.__sound \n",
    "class Printer: \n",
    "    def printSound(self, a): print(a.makeSound())\n",
    "class Dog(Animal):\n",
    "    def __init__(self, sound):\n",
    "        super().__init__(sound)\n",
    "class Cat(Animal):\n",
    "    def __init__(self, sound):\n",
    "        super().__init__(sound)\n",
    "\n",
    "d1 = Dog('bark')\n",
    "c1 = Cat('meow')\n",
    "a1 = Animal('Animal does not make sound')\n",
    "pr = Printer()\n",
    "pr.printSound(a1)\n",
    "pr.printSound(c1)\n",
    "pr.printSound(d1)"
   ]
  },
  {
   "cell_type": "markdown",
   "id": "717eed64",
   "metadata": {},
   "source": [
    "# Task 6"
   ]
  },
  {
   "cell_type": "code",
   "execution_count": 32,
   "id": "81d090d2",
   "metadata": {},
   "outputs": [
    {
     "name": "stdout",
     "output_type": "stream",
     "text": [
      "Shape name: Default\n",
      "Height: 0,Base: 0\n",
      "Area: 0.0\n",
      "--------------------------\n",
      "Shape name: Triangle\n",
      "Height: 10,Base: 5\n",
      "Area: 25.0\n",
      "---------------------------\n",
      "Shape name: Trapezoid\n",
      "Height: 10,Base: 6, Side_A: 4\n",
      "Area: 50.0\n"
     ]
    }
   ],
   "source": [
    "class Shape:   \n",
    "    def __init__(self, name='Default', height=0, base=0):\n",
    "        self.area = 0\n",
    "        self.name = name\n",
    "        self.height= height\n",
    "        self.base = base\n",
    "    def get_height_base(self):\n",
    "        return \"Height: \"+str(self.height)+\",Base: \"+str(self.base)            \n",
    "class triangle(Shape):\n",
    "    def __init__(self, name='Default', height=0, base=0):\n",
    "        super().__init__(name, height, base)\n",
    "    def calcArea(self):\n",
    "        self.area = ((self.height*self.base)/2)\n",
    "    def printDetail(self):\n",
    "        return f'Shape name: {self.name}\\n{super().get_height_base()}\\nArea: {self.area}'\n",
    "class trapezoid(Shape):\n",
    "    def __init__(self, name, height, base, side_a):\n",
    "        super().__init__(name, height, base)\n",
    "        self.side_a=side_a  \n",
    "    def calcArea(self): \n",
    "        self.area = ((self.base+self.side_a)*self.height)/2\n",
    "    def printDetail(self):\n",
    "        return f'Shape name: {self.name}\\n{super().get_height_base()}, Side_A: {self.side_a}\\nArea: {self.area}'\n",
    "    \n",
    "tri_default = triangle()\n",
    "tri_default.calcArea()\n",
    "print(tri_default.printDetail())\n",
    "print('--------------------------')\n",
    "tri = triangle('Triangle', 10, 5)\n",
    "tri.calcArea()\n",
    "print(tri.printDetail())\n",
    "print('---------------------------')\n",
    "trap = trapezoid('Trapezoid', 10, 6, 4)\n",
    "trap.calcArea()\n",
    "print(trap.printDetail())"
   ]
  },
  {
   "cell_type": "markdown",
   "id": "c4a15cf7",
   "metadata": {},
   "source": [
    "# Task 7"
   ]
  },
  {
   "cell_type": "code",
   "execution_count": 68,
   "id": "2179d2d6",
   "metadata": {},
   "outputs": [
    {
     "name": "stdout",
     "output_type": "stream",
     "text": [
      "Name: Ronaldo, Team Name: Juventus\n",
      "Team Role: Striker\n",
      "Total Goal: 25, Total Played: 32\n",
      "Goal Ratio: 0.78125\n",
      "Match Earning: 25320k\n",
      "------------------------------------------\n",
      "Name: Zidane, Team Name: Real Madrid\n",
      "Team Role: Manager\n",
      "Total Wins: 25\n",
      "Match Earning: 25000k\n"
     ]
    }
   ],
   "source": [
    "class Football:\n",
    "    def __init__(self, team_name, name, role):\n",
    "        self.__team = team_name\n",
    "        self.__name = name\n",
    "        self.role = role\n",
    "        self.earning_per_match = 0 \n",
    "    def get_name_team(self):\n",
    "        return 'Name: '+self.__name+', Team Name: ' + self.__team\n",
    "class Player(Football):\n",
    "    def __init__(self,team_name,name,role,total_goal,game):\n",
    "        super().__init__(team_name, name,role)\n",
    "        self.total_goal = total_goal\n",
    "        self.game = game\n",
    "    def calculate_ratio(self):\n",
    "        return self.total_goal/self.game\n",
    "    def print_details(self):\n",
    "        print(super().get_name_team())\n",
    "        print(\"Team Role:\",self.role)\n",
    "        print(f\"Total Goal: {self.total_goal}, Total Played: {self.game}\")\n",
    "        print(\"Goal Ratio:\",self.calculate_ratio())\n",
    "        print(f'Match Earning: {(self.total_goal * 1000)+(self.game*10)}k')\n",
    "class Manager(Football):\n",
    "    def __init__(self,team_name,name,role,total_win):\n",
    "        super().__init__(team_name, name, role)\n",
    "        self.total_win = total_win\n",
    "    def print_details(self):\n",
    "        print(super().get_name_team())\n",
    "        print(\"Team Role:\",self.role)\n",
    "        print(\"Total Wins:\",self.total_win)\n",
    "        print(f\"Match Earning: {self.total_win * 1000}k\")\n",
    "        \n",
    "player_one = Player('Juventus', 'Ronaldo', 'Striker', 25, 32)\n",
    "player_one.calculate_ratio()\n",
    "player_one.print_details()\n",
    "print('------------------------------------------')\n",
    "manager_one = Manager('Real Madrid', 'Zidane', 'Manager', 25)\n",
    "manager_one.print_details()"
   ]
  },
  {
   "cell_type": "code",
   "execution_count": null,
   "id": "67926c99",
   "metadata": {},
   "outputs": [],
   "source": []
  }
 ],
 "metadata": {
  "kernelspec": {
   "display_name": "Python 3 (ipykernel)",
   "language": "python",
   "name": "python3"
  },
  "language_info": {
   "codemirror_mode": {
    "name": "ipython",
    "version": 3
   },
   "file_extension": ".py",
   "mimetype": "text/x-python",
   "name": "python",
   "nbconvert_exporter": "python",
   "pygments_lexer": "ipython3",
   "version": "3.9.13"
  }
 },
 "nbformat": 4,
 "nbformat_minor": 5
}
