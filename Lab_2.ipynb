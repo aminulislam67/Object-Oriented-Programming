{
 "cells": [
  {
   "cell_type": "markdown",
   "id": "453d311e",
   "metadata": {},
   "source": [
    "# Task 1"
   ]
  },
  {
   "cell_type": "code",
   "execution_count": 3,
   "id": "92975ff0",
   "metadata": {},
   "outputs": [
    {
     "name": "stdout",
     "output_type": "stream",
     "text": [
      "Defaulting to user installation because normal site-packages is not writeable\n"
     ]
    },
    {
     "name": "stderr",
     "output_type": "stream",
     "text": [
      "ERROR: Could not find a version that satisfies the requirement tensowflow (from versions: none)\n",
      "ERROR: No matching distribution found for tensowflow\n"
     ]
    }
   ],
   "source": [
    "!pip install tensowflow"
   ]
  },
  {
   "cell_type": "code",
   "execution_count": 1,
   "id": "31935a33",
   "metadata": {},
   "outputs": [
    {
     "ename": "ModuleNotFoundError",
     "evalue": "No module named 'tensorflow'",
     "output_type": "error",
     "traceback": [
      "\u001b[1;31m---------------------------------------------------------------------------\u001b[0m",
      "\u001b[1;31mModuleNotFoundError\u001b[0m                       Traceback (most recent call last)",
      "Cell \u001b[1;32mIn[1], line 1\u001b[0m\n\u001b[1;32m----> 1\u001b[0m \u001b[38;5;28;01mimport\u001b[39;00m \u001b[38;5;21;01mtensorflow\u001b[39;00m \u001b[38;5;28;01mas\u001b[39;00m \u001b[38;5;21;01mtf\u001b[39;00m\n\u001b[0;32m      2\u001b[0m \u001b[38;5;28;01mfrom\u001b[39;00m \u001b[38;5;21;01mtensorflow\u001b[39;00m \u001b[38;5;28;01mimport\u001b[39;00m keras\n",
      "\u001b[1;31mModuleNotFoundError\u001b[0m: No module named 'tensorflow'"
     ]
    }
   ],
   "source": [
    "import tensorflow as tf\n",
    "from tensorflow import keras"
   ]
  },
  {
   "cell_type": "code",
   "execution_count": 2,
   "id": "5085e25b",
   "metadata": {},
   "outputs": [
    {
     "name": "stdout",
     "output_type": "stream",
     "text": [
      "0.4\n",
      "0\n",
      "0\n"
     ]
    }
   ],
   "source": [
    "def fraction_part(a,b):\n",
    "    if b==0:\n",
    "        print(b)\n",
    "    else:\n",
    "        c=a//b\n",
    "        d=a/b\n",
    "        e=d-c\n",
    "        f=round(e,1)\n",
    "        if f==0:\n",
    "            print(int(f))\n",
    "        else:\n",
    "            print(f)\n",
    "            \n",
    "fraction_part(7,5)\n",
    "fraction_part(5,0)\n",
    "fraction_part(0,5)"
   ]
  },
  {
   "cell_type": "markdown",
   "id": "04e229fc",
   "metadata": {},
   "source": [
    "# Task 2"
   ]
  },
  {
   "cell_type": "code",
   "execution_count": 47,
   "id": "c770ef15",
   "metadata": {},
   "outputs": [
    {
     "name": "stdout",
     "output_type": "stream",
     "text": [
      "Enter Height: 175\n",
      "Enter Weight: 96\n",
      "Score is 31.3 You are Obese\n"
     ]
    }
   ],
   "source": [
    "def BMI(height,weight):\n",
    "    a=height/100\n",
    "    result=(weight/a**2)\n",
    "    rounded=round(result,1)\n",
    "    if result <=18.5:\n",
    "        print(\"Score is\",(rounded),\"You are Underweight\")\n",
    "    elif 18.5<=result<=24.9:\n",
    "         print(\"Score is\",(rounded),\"You are Normal\")\n",
    "    elif 25<=result<=30:\n",
    "         print(\"Score is\",(rounded),\"You are Overweight\")\n",
    "    elif result>=30:\n",
    "         print(\"Score is\",(rounded),\"You are Obese\")\n",
    "height=int(input(\"Enter Height: \"))\n",
    "weight=int(input(\"Enter Weight: \"))\n",
    "BMI(height,weight)"
   ]
  },
  {
   "cell_type": "markdown",
   "id": "9e96cbdf",
   "metadata": {},
   "source": [
    "# Task 3"
   ]
  },
  {
   "cell_type": "code",
   "execution_count": 49,
   "id": "0f0e0555",
   "metadata": {},
   "outputs": [
    {
     "name": "stdout",
     "output_type": "stream",
     "text": [
      "Enter Minmum: 3\n",
      "Enter Maximum: 16\n",
      "Enter Divisior: 3\n",
      "45\n"
     ]
    }
   ],
   "source": [
    "\n",
    "def sum_div(minimum,maximum,divisior):  \n",
    "    sum=0\n",
    "    l=[]\n",
    "    for x in range(minimum,maximum):\n",
    "        if x%divisior==0:\n",
    "            l.append(x)\n",
    "    for y in l:\n",
    "        sum=sum+y\n",
    "    return sum\n",
    "minimum=int(input(\"Enter Minmum: \"))\n",
    "maximum=int(input(\"Enter Maximum: \"))\n",
    "divisior=int(input(\"Enter Divisior: \"))\n",
    "print(sum_div(minimum,maximum,divisior))"
   ]
  },
  {
   "cell_type": "markdown",
   "id": "b273539b",
   "metadata": {},
   "source": [
    "# Task 4"
   ]
  },
  {
   "cell_type": "code",
   "execution_count": 50,
   "id": "52e57251",
   "metadata": {},
   "outputs": [
    {
     "name": "stdout",
     "output_type": "stream",
     "text": [
      "Enter Burger Name: Beef Burger\n",
      "Enter Location: Dhanmondi\n",
      "243.6\n"
     ]
    }
   ],
   "source": [
    "def total_price(burger,location=\"Moakhali\"):\n",
    "    total=0\n",
    "    tax=8/100\n",
    "    if burger==\"BBQ Chicken Cheese Burger\":\n",
    "        price=250\n",
    "    elif burger==\"Beef Burger\":\n",
    "        price=170\n",
    "    elif burger==\"Naga Drums\":\n",
    "        price=200\n",
    "    if location==\"Moakhali\":\n",
    "        delivery_charge=40\n",
    "    else:\n",
    "        delivery_charge=60\n",
    "    total=price+delivery_charge+(price*tax)\n",
    "    print(total)\n",
    "burger=input(\"Enter Burger Name: \")\n",
    "location=input(\"Enter Location: \")\n",
    "total_price(burger,location)"
   ]
  },
  {
   "cell_type": "markdown",
   "id": "d2e337fb",
   "metadata": {},
   "source": [
    "# Task 5"
   ]
  },
  {
   "cell_type": "code",
   "execution_count": 52,
   "id": "a0b73dac",
   "metadata": {},
   "outputs": [
    {
     "name": "stdout",
     "output_type": "stream",
     "text": [
      "Enter Email: alice@kaaj.com\n",
      "Enter New Domain: sheba.xyz\n",
      "Enter Old Domain: kaaj.com\n",
      "Changed: alice@sheba.xyz\n"
     ]
    }
   ],
   "source": [
    "def replace_domain(email,new_d,old_d=\"kaaj.com\"):\n",
    "    a=email.split(\"@\")\n",
    "    if a[1]==old_d:\n",
    "        changed=str(a[0]+\"@\"+new_d)\n",
    "        print(\"Changed:\",changed)\n",
    "    elif a[1]==new_d:\n",
    "        print(\"Unchanged:\",email)\n",
    "email=input(\"Enter Email: \")\n",
    "new_d=input(\"Enter New Domain: \")\n",
    "old_d=input(\"Enter Old Domain: \")\n",
    "replace_domain(email,new_d,old_d)"
   ]
  },
  {
   "cell_type": "markdown",
   "id": "0047f26c",
   "metadata": {},
   "source": [
    "# Task 6"
   ]
  },
  {
   "cell_type": "code",
   "execution_count": 53,
   "id": "fbe21355",
   "metadata": {
    "scrolled": true
   },
   "outputs": [
    {
     "name": "stdout",
     "output_type": "stream",
     "text": [
      "Enter Name: Steve Jobs\n",
      "Vowels e, e, o Total number of vowels: 3\n"
     ]
    }
   ],
   "source": [
    "def v_checker(name):\n",
    "    vowel=[\"A\",\"E\",\"I\",\"O\",\"U\",\"a\",\"e\",\"i\",\"o\",\"u\"]\n",
    "    l=[]\n",
    "    l2=[]\n",
    "    string=''\n",
    "    vc=0\n",
    "    for x in name:\n",
    "        if \"A\">=name<=\"Z\" or \"a\">=name<=\"z\":\n",
    "             if x in vowel:\n",
    "                l.append(x)\n",
    "                string=string+x+\", \"              \n",
    "                vc=vc+1\n",
    "    if  len(string)!=0:\n",
    "        print(\"Vowels\",string[0:-2],\"Total number of vowels:\",vc)\n",
    "    else:\n",
    "        print(\"No vowels in the name\")\n",
    "name=input(\"Enter Name: \")\n",
    "v_checker(name)"
   ]
  },
  {
   "cell_type": "markdown",
   "id": "d80d1a11",
   "metadata": {},
   "source": [
    "# Task 7"
   ]
  },
  {
   "cell_type": "code",
   "execution_count": 55,
   "id": "22ad3a08",
   "metadata": {},
   "outputs": [
    {
     "name": "stdout",
     "output_type": "stream",
     "text": [
      "Enter Word: nurses run\n",
      "Palindrome\n"
     ]
    }
   ],
   "source": [
    "def palindrome_checker(word):\n",
    "    for x in word:\n",
    "        if x==\" \":\n",
    "            word.split(\" \")\n",
    "        else:\n",
    "            pass\n",
    "    y=0\n",
    "    for y in range(len(word)):\n",
    "        if word[y] !=word[-y-1]:\n",
    "            print(\"Not a palindrome\")\n",
    "            break\n",
    "        else:\n",
    "            print(\"Palindrome\")\n",
    "            break\n",
    "word=input(\"Enter Word: \")\n",
    "palindrome_checker(word)"
   ]
  },
  {
   "cell_type": "markdown",
   "id": "74560eca",
   "metadata": {},
   "source": [
    "# Task 8"
   ]
  },
  {
   "cell_type": "code",
   "execution_count": 56,
   "id": "7790995c",
   "metadata": {},
   "outputs": [
    {
     "name": "stdout",
     "output_type": "stream",
     "text": [
      "number of days: 4320\n",
      "11 years, 10 months and 5 days\n"
     ]
    }
   ],
   "source": [
    "def days(day):\n",
    "    years=day//365\n",
    "    b=day-365*years\n",
    "    months=b//30\n",
    "    d=b-30*months\n",
    "    print(f'{years} years, {months} months and {d} days')\n",
    "day=int(input(\"number of days: \"))\n",
    "days(day)"
   ]
  },
  {
   "cell_type": "markdown",
   "id": "c07c78a9",
   "metadata": {},
   "source": [
    "# Task 9"
   ]
  },
  {
   "cell_type": "code",
   "execution_count": 15,
   "id": "70b030ad",
   "metadata": {},
   "outputs": [
    {
     "name": "stdout",
     "output_type": "stream",
     "text": [
      "Enter Sentence: my favourite animal is a dog. a dog has sharp teeth so that it can eat flesh very easily. do you know my pet dog’s name? i love my pet very much.\n",
      "My favourite animal is a dog. A dog has sharp teeth so that it can eat flesh very easily. Do you know my pet dog’s name? I love my pet very much.\n"
     ]
    }
   ],
   "source": [
    "#Ans(9)\n",
    "\n",
    "def capitalization_checker(sentence):\n",
    "    mark='.!?'\n",
    "    answer=''\n",
    "    for x in range(len(sentence)):\n",
    "        if x==0:\n",
    "            answer=sentence[x].upper()\n",
    "        else:\n",
    "            if sentence[x]==\"i\":\n",
    "                if sentence[x-1]==\" \" and sentence[x+1]==\" \":\n",
    "                    answer=answer+\"I\"\n",
    "                else:\n",
    "                    answer=answer+sentence[x]\n",
    "            else:\n",
    "                if sentence[x-1]==\" \" and sentence[x-2] in mark:\n",
    "                    answer+=sentence[x].upper()\n",
    "                else:\n",
    "                    answer=answer+sentence[x]\n",
    "    return answer\n",
    "sentence=input(\"Enter Sentence: \").lower()\n",
    "result=capitalization_checker(sentence)\n",
    "print(result)"
   ]
  }
 ],
 "metadata": {
  "kernelspec": {
   "display_name": "Python 3 (ipykernel)",
   "language": "python",
   "name": "python3"
  },
  "language_info": {
   "codemirror_mode": {
    "name": "ipython",
    "version": 3
   },
   "file_extension": ".py",
   "mimetype": "text/x-python",
   "name": "python",
   "nbconvert_exporter": "python",
   "pygments_lexer": "ipython3",
   "version": "3.9.13"
  }
 },
 "nbformat": 4,
 "nbformat_minor": 5
}
