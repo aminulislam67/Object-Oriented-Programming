{
 "cells": [
  {
   "cell_type": "markdown",
   "id": "fb0d276f",
   "metadata": {},
   "source": [
    "# Task 1"
   ]
  },
  {
   "cell_type": "code",
   "execution_count": 3,
   "id": "8a564669",
   "metadata": {},
   "outputs": [
    {
     "name": "stdout",
     "output_type": "stream",
     "text": [
      "Default Account\n",
      "0.0\n",
      "------------------------\n",
      "Oliver\n",
      "10000.0\n",
      "------------------------\n",
      "Liam\n",
      "0.0\n",
      "------------------------\n",
      "Noah\n",
      "400\n",
      "------------------------\n",
      "Sorry, Withdraw unsuccessful! The account balance after deducting withdraw amount is equal to or less than minimum.\n",
      "------------------------\n",
      "Sorry, Withdraw unsuccessful! The account balance after deducting withdraw amount is equal to or less than minimum.\n",
      "------------------------\n",
      "Withdraw Successful! New balance is:3071.0\n"
     ]
    }
   ],
   "source": [
    "class Account:\n",
    "    def __init__(self,name=\"Default Account\",balance=0.0):\n",
    "        self.name=name\n",
    "        self.balance=balance\n",
    "    def details (self):\n",
    "        return str(self.name)+\"\\n\"+str(self.balance)\n",
    "    def withdraw(self, amount):\n",
    "        if 3070>=self.balance-amount:\n",
    "            \n",
    "            print(\"Sorry, Withdraw unsuccessful! The account balance after deducting withdraw amount is equal to or less than minimum.\")           \n",
    "        else:\n",
    "            self.balance = self.balance-amount\n",
    "            print(f'Withdraw Successful! New balance is:{str(self.balance)}')\n",
    "a1 = Account()\n",
    "print(a1.details())\n",
    "print(\"------------------------\")\n",
    "a1.name = \"Oliver\"\n",
    "a1.balance = 10000.0\n",
    "print(a1.details())\n",
    "print(\"------------------------\")\n",
    "a2 = Account(\"Liam\")\n",
    "print(a2.details())\n",
    "print(\"------------------------\")\n",
    "a3 = Account(\"Noah\",400)\n",
    "print(a3.details())\n",
    "print(\"------------------------\")\n",
    "a1.withdraw(6930);\n",
    "print(\"------------------------\")\n",
    "a2.withdraw(600);\n",
    "print(\"------------------------\")\n",
    "a1.withdraw(6929)            "
   ]
  },
  {
   "cell_type": "code",
   "execution_count": 23,
   "id": "7487bfc1",
   "metadata": {},
   "outputs": [
    {
     "name": "stdout",
     "output_type": "stream",
     "text": [
      "Quiz 1 (out of 10): 10\n",
      "Quiz 2 (out of 10): 10\n",
      "Lab (out of 30): 30\n",
      "Mid (out of 20): 20\n",
      "Final (out of 30): 30\n",
      "Total marks: 100\n"
     ]
    }
   ],
   "source": [
    "class Marks:\n",
    "    def __init__(self,mark):\n",
    "        self.mark=mark\n",
    "    def __add__(self,other):\n",
    "        result=self.mark + other.mark\n",
    "        obj=Marks(result)\n",
    "        return obj\n",
    "\n",
    "Q1 = Marks(int(input(\"Quiz 1 (out of 10): \")))\n",
    "Q2 = Marks(int(input(\"Quiz 2 (out of 10): \")))\n",
    "Lab = Marks(int(input(\"Lab (out of 30): \")))\n",
    "Mid = Marks(int(input(\"Mid (out of 20): \")))\n",
    "Final = Marks(int(input(\"Final (out of 30): \")))\n",
    "total = Q1 + Q2 + Lab + Mid + Final\n",
    "print(\"Total marks: {}\".format(total.mark))"
   ]
  },
  {
   "cell_type": "markdown",
   "id": "f79054a9",
   "metadata": {},
   "source": [
    "# Task 2"
   ]
  },
  {
   "cell_type": "code",
   "execution_count": 34,
   "id": "a64ea1cf",
   "metadata": {},
   "outputs": [
    {
     "name": "stdout",
     "output_type": "stream",
     "text": [
      "====================================\n",
      "Name: Saad Abdullah\n",
      "Department: CSE\n",
      "List of courses\n",
      "====================================\n",
      "CSE 110 Programming Language I\n",
      "CSE 111 Programming Language-II\n",
      "====================================\n",
      "====================================\n",
      "Name: Mumit Khan\n",
      "Department: CSE\n",
      "List of courses\n",
      "====================================\n",
      "CSE 220 Data Structures\n",
      "CSE 221 Algorithms\n",
      "CCSE 230 Discrete Mathematics\n",
      "====================================\n",
      "====================================\n",
      "Name: Sadia Kazi\n",
      "Department: CSE\n",
      "List of courses\n",
      "====================================\n",
      "CSE 310 Object Oriented Programming\n",
      "CSE 320 Data Communications\n",
      "CSE 340 Computer Architecture\n",
      "====================================\n"
     ]
    }
   ],
   "source": [
    "class Teacher:\n",
    "    def __init__(self,name,department):\n",
    "        self.__name= name\n",
    "        self.__department= department\n",
    "        self.__course_list=[]\n",
    "    def addCourse(self,other):\n",
    "        self.__course_list.append(other.course)\n",
    "    def printDetail(self):\n",
    "        print(\"====================================\")\n",
    "        print(\"Name:\",self.__name)\n",
    "        print(\"Department:\",self.__department)\n",
    "        print(\"List of courses\")\n",
    "        print(\"====================================\")\n",
    "        for x in self.__course_list:\n",
    "            print(x)\n",
    "        print(\"====================================\")\n",
    "class Course:\n",
    "    def __init__(self,course_name):\n",
    "        self.course=course_name\n",
    "t1 = Teacher(\"Saad Abdullah\", \"CSE\")\n",
    "t2 = Teacher(\"Mumit Khan\", \"CSE\")\n",
    "t3 = Teacher(\"Sadia Kazi\", \"CSE\")\n",
    "c1 = Course(\"CSE 110 Programming Language I\")\n",
    "c2 = Course(\"CSE 111 Programming Language-II\")\n",
    "c3 = Course(\"CSE 220 Data Structures\")\n",
    "c4 = Course(\"CSE 221 Algorithms\")\n",
    "c5 = Course(\"CCSE 230 Discrete Mathematics\")\n",
    "c6 = Course(\"CSE 310 Object Oriented Programming\")\n",
    "c7 = Course(\"CSE 320 Data Communications\")\n",
    "c8 = Course(\"CSE 340 Computer Architecture\")\n",
    "t1.addCourse(c1)\n",
    "t1.addCourse(c2)\n",
    "t2.addCourse(c3)\n",
    "t2.addCourse(c4)\n",
    "t2.addCourse(c5)\n",
    "t3.addCourse(c6)\n",
    "t3.addCourse(c7)\n",
    "t3.addCourse(c8)\n",
    "t1.printDetail()\n",
    "t2.printDetail()\n",
    "t3.printDetail()"
   ]
  },
  {
   "cell_type": "markdown",
   "id": "92f253c0",
   "metadata": {},
   "source": [
    "# Task 3"
   ]
  },
  {
   "cell_type": "code",
   "execution_count": 43,
   "id": "5cc323f7",
   "metadata": {},
   "outputs": [
    {
     "name": "stdout",
     "output_type": "stream",
     "text": [
      "Bangladesh\n",
      "['Mashrafi', 'Tamim']\n",
      "Australia\n",
      "['Ponting', 'Lee']\n"
     ]
    }
   ],
   "source": [
    "class Team:\n",
    "    def __init__(self,country=None):\n",
    "        self.__country=country\n",
    "        self.__player_list=[] \n",
    "    def setName(self,country):\n",
    "        self.__country=country\n",
    "    def addPlayer(self,play):\n",
    "        self.__player_list.append(play.name) \n",
    "    def printDetail(self):\n",
    "        print(self.__country)\n",
    "        print(self.__player_list)\n",
    "class Player:\n",
    "    def __init__(self,name):\n",
    "        self.name=name\n",
    "\n",
    "b = Team()\n",
    "b.setName('Bangladesh')\n",
    "mashrafi = Player(\"Mashrafi\")\n",
    "b.addPlayer(mashrafi)\n",
    "tamim = Player(\"Tamim\")\n",
    "b.addPlayer(tamim)\n",
    "b.printDetail()\n",
    "a = Team(\"Australia\")\n",
    "ponting = Player(\"Ponting\")\n",
    "a.addPlayer(ponting)\n",
    "lee = Player(\"Lee\")\n",
    "a.addPlayer(lee)\n",
    "a.printDetail()"
   ]
  },
  {
   "cell_type": "markdown",
   "id": "ebcd4eff",
   "metadata": {},
   "source": [
    "# Task 4"
   ]
  },
  {
   "cell_type": "code",
   "execution_count": 37,
   "id": "7ebd3075",
   "metadata": {},
   "outputs": [
    {
     "name": "stdout",
     "output_type": "stream",
     "text": [
      "First Color: BLUE\n",
      "Second Color: yellow\n",
      "Color formed: Green\n"
     ]
    }
   ],
   "source": [
    "class Color:\n",
    "    def __init__(self,clr):\n",
    "        self.clr=clr\n",
    "    def __add__(self,other):\n",
    "        C3= self.clr + other.clr\n",
    "        if self.clr ==\"yellow\" and other.clr==\"red\":\n",
    "            return Color(\"orange\")\n",
    "        elif self.clr==\"red\" and other.clr==\"blue\":\n",
    "            return Color(\"Violet\")\n",
    "        elif self.clr==\"yellow\" and other.clr==\"blue\":\n",
    "            return Color(\"Green\")\n",
    "        elif self.clr ==\"red\" and other.clr== \"yellow\":\n",
    "            return Color('orange')\n",
    "        elif self.clr==\"blue\" and other.clr==\"red\":\n",
    "            return Color(\"Violet\")\n",
    "        elif self.clr==\"blue\" and other.clr==\"yellow\":\n",
    "            return Color(\"Green\")      \n",
    "        \n",
    "C1 = Color(input(\"First Color: \").lower())\n",
    "C2 = Color(input(\"Second Color: \").lower())\n",
    "C3 = C1 + C2\n",
    "print(\"Color formed:\", C3.clr)  "
   ]
  },
  {
   "cell_type": "markdown",
   "id": "03968cfc",
   "metadata": {},
   "source": [
    "# Task 5"
   ]
  },
  {
   "cell_type": "code",
   "execution_count": 47,
   "id": "04a3f4b8",
   "metadata": {},
   "outputs": [
    {
     "name": "stdout",
     "output_type": "stream",
     "text": [
      "First circle radius: 4\n",
      "First circle area: 50.26548245743669\n",
      "Second circle radius: 5\n",
      "Second circle area: 78.53981633974483\n",
      "Third circle radius: 9\n",
      "Third circle area: 254.46900494077323\n"
     ]
    }
   ],
   "source": [
    "import math\n",
    "class Circle:\n",
    "    def __init__(self,radius):\n",
    "        self.__radius=radius\n",
    "    def getRadius(self):\n",
    "        return self.__radius\n",
    "    def setRadius(self,radius):\n",
    "        self.__radius=radius\n",
    "    def area(self):\n",
    "        area=math.pi*(self.__radius)**2\n",
    "        return area\n",
    "    def __add__(self,other):\n",
    "        result= self.__radius+other.__radius\n",
    "        Obj=Circle(result)\n",
    "        return Obj\n",
    "    \n",
    "c1 = Circle(4) \n",
    "print(\"First circle radius:\" , c1.getRadius()) \n",
    "print(\"First circle area:\" ,c1.area()) \n",
    "\n",
    "c2 = Circle(5) \n",
    "print(\"Second circle radius:\" ,c2.getRadius()) \n",
    "print(\"Second circle area:\" ,c2.area()) \n",
    "\n",
    "c3 = c1 + c2 \n",
    "print(\"Third circle radius:\" ,c3.getRadius()) \n",
    "print(\"Third circle area:\" ,c3.area())"
   ]
  },
  {
   "cell_type": "markdown",
   "id": "65367606",
   "metadata": {},
   "source": [
    "# Task 6"
   ]
  },
  {
   "cell_type": "code",
   "execution_count": 2,
   "id": "84c7670d",
   "metadata": {},
   "outputs": [
    {
     "name": "stdout",
     "output_type": "stream",
     "text": [
      "First Triangle Base: 10\n",
      "First Triangle Height: 5\n",
      "First Triangle area: 25.0\n",
      "Second Triangle Base: 5\n",
      "Second Triangle Height: 3\n",
      "Second Triangle area: 7.5\n",
      "Third Triangle Base: 5\n",
      "Third Triangle Height: 2\n",
      "Third Triangle area: 5.0\n"
     ]
    }
   ],
   "source": [
    "class Triangle:\n",
    "    def __init__(self,base,height):\n",
    "        self.__base=base\n",
    "        self.__height=height\n",
    "    def getBase(self):\n",
    "        return self.__base\n",
    "    def getHeight(self):\n",
    "        return self.__height\n",
    "    def setBase(self,base):\n",
    "        self.__base=base\n",
    "    def setHeight(self,height):\n",
    "        self.__height=height\n",
    "    def area(self):\n",
    "        area=(self.__base*self.__height)/2\n",
    "        return area\n",
    "    def __sub__(self,other):\n",
    "        a=Triangle(self.__base-other.__base,self.__height-other.__height)\n",
    "        return a\n",
    "    \n",
    "t1 = Triangle(10, 5) \n",
    "print(\"First Triangle Base:\" , t1.getBase()) \n",
    "print(\"First Triangle Height:\" , t1.getHeight()) \n",
    "print(\"First Triangle area:\" ,t1.area()) \n",
    "\n",
    "t2 = Triangle(5, 3) \n",
    "print(\"Second Triangle Base:\" , t2.getBase()) \n",
    "print(\"Second Triangle Height:\" , t2.getHeight()) \n",
    "print(\"Second Triangle area:\" ,t2.area()) \n",
    "\n",
    "t3 = t1 - t2 \n",
    "print(\"Third Triangle Base:\" , t3.getBase()) \n",
    "print(\"Third Triangle Height:\" , t3.getHeight()) \n",
    "print(\"Third Triangle area:\" ,t3.area())"
   ]
  },
  {
   "cell_type": "markdown",
   "id": "e3f3410a",
   "metadata": {},
   "source": [
    "# Task 7"
   ]
  },
  {
   "cell_type": "code",
   "execution_count": 71,
   "id": "1bd86d6b",
   "metadata": {},
   "outputs": [
    {
     "name": "stdout",
     "output_type": "stream",
     "text": [
      "Doll: Tweety\n",
      "Total Price: 2500\n",
      "Thank you!\n",
      "=========================\n",
      "Doll: Daffy Duck\n",
      "Total Price: 1800\n",
      "Thank you!\n",
      "=========================\n",
      "Doll: Bugs Bunny\n",
      "Total Price: 3000\n",
      "Congratulations! You get the Tweety as a gift!\n",
      "=========================\n",
      "Doll: Porky Pig\n",
      "Total Price: 1500\n",
      "Thank you!\n",
      "=========================\n",
      "Dolls: Daffy DuckBugs Bunny\n",
      "Total Price: 4800\n",
      "Congratulations! You get the Tweety as a gift!\n"
     ]
    }
   ],
   "source": [
    "class Dolls:\n",
    "    def __init__(self,doll,price):\n",
    "        self.doll=doll\n",
    "        self.price=price\n",
    "    def detail(self):\n",
    "        if self.price<4800:\n",
    "            return (\"Doll: %s\\nTotal Price: %d\"%(self.doll,self.price))\n",
    "        else:\n",
    "            return (\"Dolls: %s\\nTotal Price: %d\"%(self.doll,self.price))        \n",
    "    def __gt__(self,other):\n",
    "        if self.price>other.price:\n",
    "            return True\n",
    "        else:\n",
    "            return False\n",
    "    def __add__(self,other):\n",
    "        new_obj = Dolls(self.doll + other.doll,self.price+other.price)\n",
    "        return new_obj\n",
    "        \n",
    "obj_1 = Dolls(\"Tweety\", 2500)\n",
    "print(obj_1.detail())\n",
    "if obj_1 > obj_1:\n",
    "    print(\"Congratulations! You get the Tweety as a gift!\")\n",
    "else:\n",
    "    print(\"Thank you!\")\n",
    "print(\"=========================\")\n",
    "obj_2 = Dolls(\"Daffy Duck\", 1800)\n",
    "print(obj_2.detail())\n",
    "if obj_2 > obj_1:\n",
    "    print(\"Congratulations! You get the Tweety as a gift!\")\n",
    "else:\n",
    "    print(\"Thank you!\")\n",
    "print(\"=========================\")\n",
    "obj_3 = Dolls(\"Bugs Bunny\", 3000)\n",
    "print(obj_3.detail())\n",
    "if obj_3 > obj_1:\n",
    "    print(\"Congratulations! You get the Tweety as a gift!\")\n",
    "else:\n",
    "    print(\"Thank you!\")\n",
    "print(\"=========================\")\n",
    "obj_4 = Dolls(\"Porky Pig\", 1500)\n",
    "print(obj_4.detail())\n",
    "if obj_4 > obj_1:\n",
    "    print(\"Congratulations! You get the Tweety as a gift!\")\n",
    "else:\n",
    "    print(\"Thank you!\")\n",
    "print(\"=========================\")\n",
    "obj_5 = obj_2 + obj_3\n",
    "print(obj_5.detail())\n",
    "if obj_5 > obj_1:\n",
    "    print(\"Congratulations! You get the Tweety as a gift!\")\n",
    "else:\n",
    "    print(\"Thank you!\")"
   ]
  },
  {
   "cell_type": "markdown",
   "id": "8f32e7e2",
   "metadata": {},
   "source": [
    "   # Task 8"
   ]
  },
  {
   "cell_type": "code",
   "execution_count": 53,
   "id": "bb1059e7",
   "metadata": {},
   "outputs": [
    {
     "name": "stdout",
     "output_type": "stream",
     "text": [
      "1\n",
      "2\n",
      "3\n",
      "4\n",
      "(-2, -2)\n",
      "(3, 8)\n",
      "The calculated coordinates are NOT the same.\n",
      "\n"
     ]
    }
   ],
   "source": [
    "class Coordinates:\n",
    "    def __init__(self,x,y):\n",
    "        self.x=x\n",
    "        self.y=y\n",
    "    def detail(self):\n",
    "        return (self.x,self.y)               \n",
    "    def __sub__(self,other):\n",
    "        return Coordinates(self.x-other.x,self.y-other.y)\n",
    "    def __mul__(self,other):\n",
    "        return Coordinates(self.x*other.x,self.y*other.y)\n",
    "    def __eq__(self,other):\n",
    "        if self.x == other.x and self.y == other.y:\n",
    "            print(\"The calculated coordinates are the same.\")\n",
    "            return \"\"\n",
    "        else:\n",
    "            print(\"The calculated coordinates are NOT the same.\")\n",
    "            return \"\"\n",
    "\n",
    "p1 = Coordinates(int(input()),int(input()))\n",
    "p2 = Coordinates(int(input()),int(input()))\n",
    "p4 = p1 - p2\n",
    "print(p4.detail())\n",
    "p5 = p1 * p2\n",
    "print(p5.detail())\n",
    "point_check = (p4 == p5)\n",
    "print(point_check)"
   ]
  }
 ],
 "metadata": {
  "kernelspec": {
   "display_name": "Python 3 (ipykernel)",
   "language": "python",
   "name": "python3"
  },
  "language_info": {
   "codemirror_mode": {
    "name": "ipython",
    "version": 3
   },
   "file_extension": ".py",
   "mimetype": "text/x-python",
   "name": "python",
   "nbconvert_exporter": "python",
   "pygments_lexer": "ipython3",
   "version": "3.9.13"
  }
 },
 "nbformat": 4,
 "nbformat_minor": 5
}
