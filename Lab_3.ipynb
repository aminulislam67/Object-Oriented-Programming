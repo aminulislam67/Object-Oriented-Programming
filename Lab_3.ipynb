{
 "cells": [
  {
   "cell_type": "markdown",
   "id": "65443e37",
   "metadata": {},
   "source": [
    " ## Task 1"
   ]
  },
  {
   "cell_type": "code",
   "execution_count": 20,
   "id": "d14ec3b5",
   "metadata": {},
   "outputs": [
    {
     "name": "stdout",
     "output_type": "stream",
     "text": [
      "Integer\n",
      "1234\n",
      "=====================\n",
      "String\n",
      "Hello\n",
      "=====================\n",
      "Float\n",
      "4.0\n"
     ]
    }
   ],
   "source": [
    "class DataType:\n",
    "    def __init__(self,type_data,data):\n",
    "        self.name=type_data\n",
    "        self.value=data\n",
    "    \n",
    "data_type1 = DataType(\"Integer\", 1234)\n",
    "print(data_type1.name)\n",
    "print(data_type1.value) \n",
    "print('=====================')\n",
    "data_type2 = DataType(\"String\", \"Hello\")\n",
    "print(data_type2.name)\n",
    "print(data_type2.value)\n",
    "print('=====================')\n",
    "data_type3 = DataType(\"Float\", 4.0)\n",
    "print(data_type3.name)\n",
    "print(data_type3.value)\n",
    "\n",
    "#Integer\n",
    "#1234\n",
    "#===================== \n",
    "#String\n",
    "#Hello\n",
    "#=====================\n",
    "#Float\n",
    "#4.0"
   ]
  },
  {
   "cell_type": "markdown",
   "id": "1d8f0b30",
   "metadata": {},
   "source": [
    "# Task 2"
   ]
  },
  {
   "cell_type": "code",
   "execution_count": 6,
   "id": "3309a7f8",
   "metadata": {},
   "outputs": [
    {
     "name": "stdout",
     "output_type": "stream",
     "text": [
      "Name of this flower: Rose\n",
      "Color of this flower: Red\n",
      "Number of petal: 6\n",
      "=====================\n",
      "Name of this flower: Orchid\n",
      "Color of this flower: Purple\n",
      "Number of petal: 4\n",
      "<__main__.Flower object at 0x0000024AAAABD9D0>\n",
      "<__main__.Flower object at 0x0000024AAAB5D1C0>\n",
      "they are different\n"
     ]
    }
   ],
   "source": [
    "class Flower:\n",
    "    pass\n",
    "flower1 = Flower() \n",
    "flower1.name=\"Rose\" \n",
    "flower1.color=\"Red\" \n",
    "flower1.num_of_petal=6 \n",
    "print(\"Name of this flower:\", flower1.name)\n",
    "print(\"Color of this flower:\",flower1.color) \n",
    "print(\"Number of petal:\",flower1.num_of_petal) \n",
    "print(\"=====================\") \n",
    "flower2 = Flower() \n",
    "flower2.name=\"Orchid\"\n",
    "flower2.color=\"Purple\" \n",
    "flower2.num_of_petal=4 \n",
    "print(\"Name of this flower:\",flower2.name) \n",
    "print(\"Color of this flower:\",flower2.color) \n",
    "print (\"Number of petal:\",flower2. num_of_petal)\n",
    "print(flower1)\n",
    "print(flower2)\n",
    "if  flower1==flower2:\n",
    "    print(\"they are same\")\n",
    "else:\n",
    "    print(\"they are different\")\n",
    "\n",
    "#Name of this flower: Rose\n",
    "# Color of this flower: Red \n",
    "#Number of petal: 6\n",
    "#===================== \n",
    "#Name of this flower: Orchid \n",
    "#Color of this flower: Purple \n",
    "#Number of petal: 4"
   ]
  },
  {
   "cell_type": "markdown",
   "id": "4efb8358",
   "metadata": {},
   "source": [
    "# Task 3"
   ]
  },
  {
   "cell_type": "code",
   "execution_count": 13,
   "id": "656d4581",
   "metadata": {},
   "outputs": [
    {
     "name": "stdout",
     "output_type": "stream",
     "text": [
      "Part 1:\n",
      "Name of President Aladeen\n",
      "Designation: President Prime Minister Admiral General\n",
      "Number of Wife: 100\n",
      "Is he/she a dictator: True\n",
      "Part 2:\n",
      "Name of President Donald Trump\n",
      "Designation: President\n",
      "Number of Wife: 1\n",
      "Is he/she a dictator: False\n",
      "previous information lost\n"
     ]
    }
   ],
   "source": [
    "class Wadiya(): \n",
    "    def __init__(self): \n",
    "        self.name = 'Aladeen' \n",
    "        self.designation = 'President Prime Minister Admiral General' \n",
    "        self.num_of_wife = 100 \n",
    "        self.dictator = True\n",
    "wadiya=Wadiya()\n",
    "print(\"Part 1:\")\n",
    "print(\"Name of President\",wadiya.name)\n",
    "print(\"Designation:\",wadiya.designation)\n",
    "print(\"Number of Wife:\",wadiya.num_of_wife)\n",
    "print(\"Is he/she a dictator:\",wadiya.dictator)\n",
    "wadiya.name = 'Donald Trump' \n",
    "wadiya.designation = 'President' \n",
    "wadiya.num_of_wife = 1 \n",
    "wadiya.dictator = False\n",
    "print(\"Part 2:\")\n",
    "print(\"Name of President\",wadiya.name)\n",
    "print(\"Designation:\",wadiya.designation)\n",
    "print(\"Number of Wife:\",wadiya.num_of_wife)\n",
    "print(\"Is he/she a dictator:\",wadiya.dictator)\n",
    "print(\"previous information lost\")\n",
    "\n",
    "#Part 1:\n",
    "#Name of President: Aladeen\n",
    "#Designation: President Prime Minister Admiral General\n",
    "#Number of wife: 100\n",
    "#Is he/she a dictator: True\n",
    "#Part 2:\n",
    "#Name of President: Donald Trump\n",
    "#Designation: President\n",
    "#Number of wife: 1\n",
    "#Is he/she a dictator: False\n"
   ]
  },
  {
   "cell_type": "markdown",
   "id": "45b51cdd",
   "metadata": {},
   "source": [
    "# Task 4"
   ]
  },
  {
   "cell_type": "code",
   "execution_count": 74,
   "id": "0dcdf000",
   "metadata": {},
   "outputs": [
    {
     "name": "stdout",
     "output_type": "stream",
     "text": [
      "Heath Ledger\n",
      "Mind Game\n",
      "False\n",
      "=====================\n",
      "Joaquin Phoenix\n",
      "Laughing out Loud\n",
      "True\n",
      "=====================\n",
      "different\n",
      "same\n",
      "j1 and j2 are located in different memory. That's why differnt.\n",
      "Memory Upated. That's why same.\n"
     ]
    }
   ],
   "source": [
    "class Joker:\n",
    "    def __init__(self,name,power,is_he_psycho):\n",
    "        self.name=name\n",
    "        self.power=power\n",
    "        self.is_he_psycho=is_he_psycho\n",
    "j1 = Joker('Heath Ledger', 'Mind Game', False) \n",
    "print(j1.name)\n",
    "print(j1.power) \n",
    "print(j1.is_he_psycho)\n",
    "print(\"=====================\") \n",
    "j2 = Joker('Joaquin Phoenix', 'Laughing out Loud', True) \n",
    "print(j2.name)\n",
    "print(j2.power) \n",
    "print(j2.is_he_psycho)\n",
    "print(\"=====================\") \n",
    "if j1 == j2: \n",
    "    print('same')\n",
    "else: \n",
    "    print('different') \n",
    "j2.name = 'Heath Ledger' \n",
    "if j1.name == j2.name: \n",
    "    print('same')\n",
    "print(\"j1 and j2 are located in different memory. That's why differnt.\")\n",
    "print(\"Memory Upated. That's why same.\")"
   ]
  },
  {
   "cell_type": "markdown",
   "id": "59b31c2e",
   "metadata": {},
   "source": [
    "# Task 5"
   ]
  },
  {
   "cell_type": "code",
   "execution_count": 68,
   "id": "da5ed2e5",
   "metadata": {},
   "outputs": [
    {
     "name": "stdout",
     "output_type": "stream",
     "text": [
      "=======Team 1=======\n",
      "Pokemon 1: pikachu 90\n",
      "Pokemon 2: charmander 60\n",
      "Combined Power: 1500\n",
      "=======Team 2=======\n",
      "Pokemon 1: bulbaasaur 80\n",
      "Pokemon 2: squirtle 70\n",
      "Combined Power: 1350\n"
     ]
    }
   ],
   "source": [
    "class Pokemon:\n",
    "    def __init__(self,pokemon1_name,pokemon2_name,pokemon1_power,pokemon2_power,damage_rate):\n",
    "        self.pokemon1_name=pokemon1_name\n",
    "        self.pokemon2_name=pokemon2_name\n",
    "        self.pokemon1_power=pokemon1_power\n",
    "        self.pokemon2_power=pokemon2_power\n",
    "        self.damage_rate=damage_rate\n",
    "team_pika = Pokemon('pikachu', 'charmander', 90, 60, 10)\n",
    "print('=======Team 1=======') \n",
    "print('Pokemon 1:',team_pika.pokemon1_name, team_pika.pokemon1_power)\n",
    "print('Pokemon 2:',team_pika.pokemon2_name, team_pika.pokemon2_power) \n",
    "pika_combined_power = (team_pika.pokemon1_power + team_pika.pokemon2_power) * team_pika.damage_rate \n",
    "print('Combined Power:', pika_combined_power)\n",
    "\n",
    "team_pika = Pokemon('bulbaasaur', 'squirtle', 80, 70, 9)\n",
    "print('=======Team 2=======') \n",
    "print('Pokemon 1:',team_pika.pokemon1_name, team_pika.pokemon1_power)\n",
    "print('Pokemon 2:',team_pika.pokemon2_name, team_pika.pokemon2_power) \n",
    "pika_combined_power = (team_pika.pokemon1_power + team_pika.pokemon2_power) * team_pika.damage_rate \n",
    "print('Combined Power:', pika_combined_power)"
   ]
  },
  {
   "cell_type": "markdown",
   "id": "45f810b7",
   "metadata": {},
   "source": [
    "# Task 6"
   ]
  },
  {
   "cell_type": "code",
   "execution_count": 45,
   "id": "48c17767",
   "metadata": {},
   "outputs": [
    {
     "name": "stdout",
     "output_type": "stream",
     "text": [
      "Name of the Player: Ronaldo\n",
      "Jersey Number of player: 9\n",
      "Position of player: Striker\n",
      "===========================\n",
      "Name of the player: Neuer\n",
      "Jersey Number of player: 1\n",
      "Position of player: Goal Keeper\n"
     ]
    }
   ],
   "source": [
    "class Player:\n",
    "    pass\n",
    "\n",
    "player1 = Player()\n",
    "player1.name = \"Ronaldo\"\n",
    "player1.jersy_number = 9\n",
    "player1.position = \"Striker\"\n",
    "print(\"Name of the Player:\", player1.name)\n",
    "print(\"Jersey Number of player:\", player1.jersy_number)\n",
    "print(\"Position of player:\", player1.position)\n",
    "print(\"===========================\")\n",
    "player2 = Player()\n",
    "player2.name = \"Neuer\"\n",
    "player2.jersy_number = 1\n",
    "player2.position = \"Goal Keeper\"\n",
    "print(\"Name of the player:\", player2.name)\n",
    "print(\"Jersey Number of player:\", player2.jersy_number)\n",
    "print(\"Position of player:\", player2.position)"
   ]
  },
  {
   "cell_type": "markdown",
   "id": "8e4fa4e3",
   "metadata": {},
   "source": [
    "# Task 7"
   ]
  },
  {
   "cell_type": "code",
   "execution_count": 48,
   "id": "4e2edfd9",
   "metadata": {},
   "outputs": [
    {
     "name": "stdout",
     "output_type": "stream",
     "text": [
      "Name: Bangladesh\n",
      "Continent: Asia\n",
      "Capital: Dhaka\n",
      "Fifa Ranking: 187\n",
      "===================\n",
      "Name: Belgium\n",
      "Continent: Europe\n",
      "Capital: Brussels\n",
      "Fifa Ranking: 1\n"
     ]
    }
   ],
   "source": [
    "class Country:\n",
    "    def __init__(self):\n",
    "        self.name=\"Bangladesh\"\n",
    "        self.continent=\"Asia\"\n",
    "        self.capital=\"Dhaka\"\n",
    "        self.fifa_ranking=187\n",
    "country = Country()\n",
    "print('Name:',country.name)\n",
    "print('Continent:',country.continent)\n",
    "print('Capital:',country.capital)\n",
    "print('Fifa Ranking:',country.fifa_ranking)\n",
    "print('===================')\n",
    "country.name = \"Belgium\"\n",
    "country.continent = \"Europe\"\n",
    "country.capital = \"Brussels\"\n",
    "country.fifa_ranking = 1\n",
    "print('Name:',country.name)\n",
    "print('Continent:',country.continent)\n",
    "print('Capital:',country.capital)\n",
    "print('Fifa Ranking:',country.fifa_ranking)"
   ]
  },
  {
   "cell_type": "markdown",
   "id": "75b7d8da",
   "metadata": {},
   "source": [
    "# Task 8"
   ]
  },
  {
   "cell_type": "code",
   "execution_count": 52,
   "id": "3b17fbad",
   "metadata": {},
   "outputs": [
    {
     "name": "stdout",
     "output_type": "stream",
     "text": [
      "Name: Tanjiro\n",
      "Fighting Style: Water Breathing\n",
      "Knows 10 technique(s) and has killed 10 demon(s)\n",
      "===================\n",
      "Name: Zenitsu\n",
      "Fighting Style: Thunder Breathing\n",
      "Knows 1 technique(s) and has killed 4 demon(s)\n",
      "===================\n",
      "Name: Inosuke\n",
      "Fighting Style: Beast Breathing\n",
      "Knows 5 technique(s) and has killed 7 demon(s)\n",
      "===================\n",
      "Tanjiro, Zenitsu, Inosuke knows total 16 techniques\n",
      "They have killed total 21 demons\n"
     ]
    }
   ],
   "source": [
    "class DemonSlayer:\n",
    "    def __init__(self,name,style,number_of_technique,kill):\n",
    "        self.name=name\n",
    "        self.style=style\n",
    "        self.number_of_technique=number_of_technique\n",
    "        self.kill=kill\n",
    "tanjiro = DemonSlayer(\"Tanjiro\", \"Water Breathing\", 10, 10)\n",
    "print('Name:',tanjiro.name)\n",
    "print('Fighting Style:',tanjiro.style)\n",
    "print(f'Knows {tanjiro.number_of_technique} technique(s) and has killed {tanjiro.kill} demon(s)')\n",
    "print('===================')\n",
    "zenitsu = DemonSlayer(\"Zenitsu\", \"Thunder Breathing\", 1, 4)\n",
    "print('Name:',zenitsu.name)\n",
    "print('Fighting Style:',zenitsu.style)\n",
    "print(f'Knows {zenitsu.number_of_technique} technique(s) and has killed {zenitsu.kill} demon(s)')\n",
    "print('===================')\n",
    "inosuke = DemonSlayer(\"Inosuke\", \"Beast Breathing\", 5, 7)\n",
    "print('Name:',inosuke.name)\n",
    "print('Fighting Style:',inosuke.style)\n",
    "print(f'Knows {inosuke.number_of_technique} technique(s) and has killed {inosuke.kill} demon(s)')\n",
    "print('===================')\n",
    "print(f'{tanjiro.name}, {zenitsu.name}, {inosuke.name} knows total {tanjiro.number_of_technique + zenitsu.number_of_technique + inosuke.number_of_technique} techniques')\n",
    "print(f'They have killed total {tanjiro.kill + zenitsu.kill + inosuke.kill} demons')\n"
   ]
  },
  {
   "cell_type": "markdown",
   "id": "de50edcb",
   "metadata": {},
   "source": [
    "# Task 9"
   ]
  },
  {
   "cell_type": "code",
   "execution_count": 55,
   "id": "0767c55a",
   "metadata": {},
   "outputs": [
    {
     "name": "stdout",
     "output_type": "stream",
     "text": [
      "Box 1\n",
      "Creating a Box!\n",
      "Volume of the box is 1000 cubic units\n",
      "=========================\n",
      "Height: 10\n",
      "Width: 10\n",
      "Breadth: 10\n",
      "-------------------------\n",
      "Box 2\n",
      "Creating a Box!\n",
      "Volume of the box is 3000 cubic units\n",
      "=========================\n",
      "Height: 30\n",
      "Width: 10\n",
      "Breadth: 10\n",
      "Updating Box 2!\n",
      "Height: 300\n",
      "Width: 10\n",
      "Breadth: 10\n",
      "-------------------------\n",
      "Box 3\n",
      "Height: 300\n",
      "Width: 10\n",
      "Breadth: 10\n"
     ]
    }
   ],
   "source": [
    "class box:\n",
    "    def __init__(self,list1):\n",
    "        self.height=list1[0]\n",
    "        self.width=list1[1]\n",
    "        self.breadth=list1[2]\n",
    "        print(\"Creating a Box!\")\n",
    "        print(\"Volume of the box is\",str(self.height*self.width*self.breadth),\"cubic units\")\n",
    "print(\"Box 1\") \n",
    "b1 = box([10,10,10]) \n",
    "print(\"=========================\") \n",
    "print(\"Height:\", b1.height) \n",
    "print(\"Width:\", b1.width) \n",
    "print(\"Breadth:\", b1.breadth) \n",
    "print(\"-------------------------\") \n",
    "print(\"Box 2\") \n",
    "b2 = box((30,10,10)) \n",
    "print(\"=========================\") \n",
    "print(\"Height:\", b2.height) \n",
    "print(\"Width:\", b2.width) \n",
    "print(\"Breadth:\", b2.breadth) \n",
    "b2.height = 300 \n",
    "print(\"Updating Box 2!\")\n",
    "print(\"Height:\", b2.height) \n",
    "print(\"Width:\", b2.width) \n",
    "print(\"Breadth:\", b2.breadth) \n",
    "print(\"-------------------------\") \n",
    "print(\"Box 3\")\n",
    "b3 = b2 \n",
    "print(\"Height:\", b3.height) \n",
    "print(\"Width:\", b3.width) \n",
    "print(\"Breadth:\", b3.breadth)\n"
   ]
  },
  {
   "cell_type": "markdown",
   "id": "bd45078b",
   "metadata": {},
   "source": [
    "# Task 10"
   ]
  },
  {
   "cell_type": "code",
   "execution_count": 72,
   "id": "c9b9ebf9",
   "metadata": {},
   "outputs": [
    {
     "name": "stdout",
     "output_type": "stream",
     "text": [
      "xxxxxxxxxxxxxxxxxxxxxxxxxxxx\n",
      "x 8   CANCEL 8 x\n",
      "xxxxxxxxxxxxxxxxxxxxxxxxxxxx\n",
      "=======================================================\n",
      "!!!!!!!!!!!!!!\n",
      "! 1   Notify 1 !\n",
      "!!!!!!!!!!!!!!\n",
      "=======================================================\n",
      "$$$$$$$$$$$$$$$$$$$$$$$$$\n",
      "$ 3   SAVE PROGRESS 3 $\n",
      "$$$$$$$$$$$$$$$$$$$$$$$$$\n"
     ]
    }
   ],
   "source": [
    "class buttons:\n",
    "    def __init__(self,word,spaces,border):\n",
    "        self.word=word\n",
    "        self.spaces=spaces\n",
    "        self.border=border\n",
    "        border_character=1+spaces*2+len(word)+1\n",
    "        spaces_character=spaces-2\n",
    "        print(border*border_character)\n",
    "        print(border,spaces_character,\" \",word,spaces_character,border)\n",
    "        print(border*border_character)\n",
    "        \n",
    "word = \"CANCEL\"\n",
    "spaces = 10\n",
    "border = 'x'\n",
    "b1 = buttons(word, spaces, border)\n",
    "print(\"=======================================================\")\n",
    "b2 = buttons(\"Notify\",3, '!') \n",
    "print(\"=======================================================\")\n",
    "b3 = buttons('SAVE PROGRESS', 5, '$')"
   ]
  },
  {
   "cell_type": "code",
   "execution_count": null,
   "id": "96ef12a6",
   "metadata": {},
   "outputs": [],
   "source": []
  }
 ],
 "metadata": {
  "kernelspec": {
   "display_name": "Python 3 (ipykernel)",
   "language": "python",
   "name": "python3"
  },
  "language_info": {
   "codemirror_mode": {
    "name": "ipython",
    "version": 3
   },
   "file_extension": ".py",
   "mimetype": "text/x-python",
   "name": "python",
   "nbconvert_exporter": "python",
   "pygments_lexer": "ipython3",
   "version": "3.9.13"
  }
 },
 "nbformat": 4,
 "nbformat_minor": 5
}
