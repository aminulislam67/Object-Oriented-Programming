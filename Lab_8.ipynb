{
 "cells": [
  {
   "cell_type": "markdown",
   "id": "22845806",
   "metadata": {},
   "source": [
    "# Task 1"
   ]
  },
  {
   "cell_type": "code",
   "execution_count": 9,
   "id": "38d3063f",
   "metadata": {},
   "outputs": [
    {
     "name": "stdout",
     "output_type": "stream",
     "text": [
      "The Shining which is a Psychological horror is just out of the world, mind-blowing!\n",
      "=========================\n"
     ]
    },
    {
     "ename": "AttributeError",
     "evalue": "'super' object has no attribute 'self'",
     "output_type": "error",
     "traceback": [
      "\u001b[1;31m---------------------------------------------------------------------------\u001b[0m",
      "\u001b[1;31mAttributeError\u001b[0m                            Traceback (most recent call last)",
      "\u001b[1;32m~\\AppData\\Local\\Temp\\ipykernel_11136\\1100968647.py\u001b[0m in \u001b[0;36m<module>\u001b[1;34m\u001b[0m\n\u001b[0;32m     21\u001b[0m \u001b[0mb1\u001b[0m\u001b[1;33m.\u001b[0m\u001b[0mreview\u001b[0m\u001b[1;33m(\u001b[0m\u001b[1;33m)\u001b[0m\u001b[1;33m\u001b[0m\u001b[1;33m\u001b[0m\u001b[0m\n\u001b[0;32m     22\u001b[0m \u001b[0mprint\u001b[0m\u001b[1;33m(\u001b[0m\u001b[1;34m'========================='\u001b[0m\u001b[1;33m)\u001b[0m\u001b[1;33m\u001b[0m\u001b[1;33m\u001b[0m\u001b[0m\n\u001b[1;32m---> 23\u001b[1;33m \u001b[0mb2\u001b[0m\u001b[1;33m.\u001b[0m\u001b[0mreview\u001b[0m\u001b[1;33m(\u001b[0m\u001b[1;33m)\u001b[0m\u001b[1;33m\u001b[0m\u001b[1;33m\u001b[0m\u001b[0m\n\u001b[0m\u001b[0;32m     24\u001b[0m \u001b[0mprint\u001b[0m\u001b[1;33m(\u001b[0m\u001b[1;34m'========================='\u001b[0m\u001b[1;33m)\u001b[0m\u001b[1;33m\u001b[0m\u001b[1;33m\u001b[0m\u001b[0m\n",
      "\u001b[1;32m~\\AppData\\Local\\Temp\\ipykernel_11136\\1100968647.py\u001b[0m in \u001b[0;36mreview\u001b[1;34m(self)\u001b[0m\n\u001b[0;32m     16\u001b[0m         \u001b[0mself\u001b[0m\u001b[1;33m.\u001b[0m\u001b[0mpart1\u001b[0m \u001b[1;33m=\u001b[0m \u001b[0mpart1\u001b[0m\u001b[1;33m\u001b[0m\u001b[1;33m\u001b[0m\u001b[0m\n\u001b[0;32m     17\u001b[0m     \u001b[1;32mdef\u001b[0m \u001b[0mreview\u001b[0m\u001b[1;33m(\u001b[0m\u001b[0mself\u001b[0m\u001b[1;33m)\u001b[0m\u001b[1;33m:\u001b[0m\u001b[1;33m\u001b[0m\u001b[1;33m\u001b[0m\u001b[0m\n\u001b[1;32m---> 18\u001b[1;33m         \u001b[0mprint\u001b[0m\u001b[1;33m(\u001b[0m\u001b[1;34mf\"{self.part1} which is a {super().self.genre} is just out of the world, mind-blowing!\"\u001b[0m\u001b[1;33m)\u001b[0m\u001b[1;33m\u001b[0m\u001b[1;33m\u001b[0m\u001b[0m\n\u001b[0m\u001b[0;32m     19\u001b[0m \u001b[0mb1\u001b[0m \u001b[1;33m=\u001b[0m \u001b[0mfiction\u001b[0m\u001b[1;33m(\u001b[0m\u001b[1;34m'The Shining'\u001b[0m\u001b[1;33m,\u001b[0m\u001b[1;34m'Psychological horror'\u001b[0m\u001b[1;33m)\u001b[0m\u001b[1;33m\u001b[0m\u001b[1;33m\u001b[0m\u001b[0m\n\u001b[0;32m     20\u001b[0m \u001b[0mb2\u001b[0m \u001b[1;33m=\u001b[0m \u001b[0mnonfiction\u001b[0m\u001b[1;33m(\u001b[0m\u001b[1;34m'A Beautiful Mind'\u001b[0m\u001b[1;33m)\u001b[0m\u001b[1;33m\u001b[0m\u001b[1;33m\u001b[0m\u001b[0m\n",
      "\u001b[1;31mAttributeError\u001b[0m: 'super' object has no attribute 'self'"
     ]
    }
   ],
   "source": [
    "class book:\n",
    "    def __init__(self, name):\n",
    "        self.name = name\n",
    "        self.genre='biography'\n",
    "    def review(self):\n",
    "        print('This book is just out of the world,mind-blowing!')\n",
    "class fiction(book):\n",
    "    def __init__(self,part1,part2):\n",
    "        self.part1 = part1\n",
    "        self.part2 = part2\n",
    "    def review(self):\n",
    "        print(f\"{self.part1} which is a {self.part2} is just out of the world, mind-blowing!\")\n",
    "\n",
    "class nonfiction(book):\n",
    "    def __init__(self,part1):\n",
    "        self.part1 = part1\n",
    "    def review(self):\n",
    "        print(f\"{self.part1} which is a {super().self.genre} is just out of the world, mind-blowing!\")\n",
    "b1 = fiction('The Shining','Psychological horror')\n",
    "b2 = nonfiction('A Beautiful Mind')\n",
    "b1.review()\n",
    "print('=========================')\n",
    "b2.review()\n",
    "print('=========================')"
   ]
  },
  {
   "cell_type": "code",
   "execution_count": 12,
   "id": "60abfb08",
   "metadata": {},
   "outputs": [
    {
     "name": "stdout",
     "output_type": "stream",
     "text": [
      "RealPart: 1.0\n",
      "ImginaryPart: 1.0\n",
      "---------\n",
      "RealPart: 5.0\n",
      "ImginaryPart: 7.0\n"
     ]
    }
   ],
   "source": [
    "class RealNumber:\n",
    "    def __init__(self, r=0): \n",
    "        self.__realValue = r \n",
    "    def getRealValue(self): \n",
    "        return self.__realValue\n",
    "    def setRealValue(self, r): \n",
    "        self.__realValue = r \n",
    "    def __str__(self):\n",
    "        return 'RealPart: '+str(self.getRealValue())\n",
    "class ComplexNumber(RealNumber):\n",
    "    def __init__(self, realpart=1, imaginarypart=1):\n",
    "        super().__init__(float(realpart))\n",
    "        self.__imaginarypart=float(imaginarypart)\n",
    "    def __str__(self):\n",
    "        value=super().__str__()+\"\\n\"+\"ImginaryPart: \" +str(self.__imaginarypart)\n",
    "        return value\n",
    "    \n",
    "cn1 = ComplexNumber() \n",
    "print(cn1) \n",
    "print('---------') \n",
    "cn2 = ComplexNumber(5,7) \n",
    "print(cn2)    "
   ]
  },
  {
   "cell_type": "markdown",
   "id": "72af1faa",
   "metadata": {},
   "source": [
    "# Task 2"
   ]
  },
  {
   "cell_type": "code",
   "execution_count": 31,
   "id": "48b6fca9",
   "metadata": {},
   "outputs": [
    {
     "name": "stdout",
     "output_type": "stream",
     "text": [
      "8\n",
      "2 + 1i\n",
      "3 + 5i\n",
      "5 + 6i\n",
      "-1 -4i\n"
     ]
    }
   ],
   "source": [
    "class RealNumber: \n",
    "    def __init__(self, number=0): \n",
    "        self.number = number \n",
    "    def __add__(self, anotherRealNumber): \n",
    "        return self.number + anotherRealNumber.number \n",
    "    def __sub__(self, anotherRealNumber): \n",
    "        return self.number - anotherRealNumber.number \n",
    "    def __str__(self): \n",
    "        return str(self.number) \n",
    "class ComplexNumber(RealNumber):\n",
    "    def __init__(self,realnum,imaginarynum):\n",
    "        try:\n",
    "            realnum =int(realnum)\n",
    "            super().__init__(realnum)\n",
    "        except:\n",
    "            super().__init__(realnum.number)\n",
    "        self.imaginarynum=imaginarynum    \n",
    "    def __add__(self, anotherImaginaryNumber):\n",
    "        real1=self.number+anotherImaginaryNumber.number\n",
    "        imaginary1=self.imaginarynum+anotherImaginaryNumber.imaginarynum\n",
    "        return ComplexNumber(real1,imaginary1)\n",
    "    def __sub__(self,anotherImaginaryNumber):\n",
    "        real1=self.number-anotherImaginaryNumber.number\n",
    "        imaginary1=self.imaginarynum-anotherImaginaryNumber.imaginarynum       \n",
    "        return ComplexNumber(real1,imaginary1)     \n",
    "    def __str__(self):\n",
    "        if self.imaginarynum>0:\n",
    "            return f\"{self.number} + {self.imaginarynum}i\"\n",
    "        else:\n",
    "            return f\"{self.number} {self.imaginarynum}i\"\n",
    "            \n",
    "r1 = RealNumber(3) \n",
    "r2 = RealNumber(5) \n",
    "print(r1+r2) \n",
    "cn1 = ComplexNumber(2, 1) \n",
    "print(cn1) \n",
    "cn2 = ComplexNumber(r1, 5) \n",
    "print(cn2) \n",
    "cn3 = cn1 + cn2 \n",
    "print(cn3) \n",
    "cn4 = cn1 - cn2 \n",
    "print(cn4)"
   ]
  },
  {
   "cell_type": "markdown",
   "id": "f5b1559d",
   "metadata": {},
   "source": [
    "# Task 3"
   ]
  },
  {
   "cell_type": "code",
   "execution_count": 20,
   "id": "a44f3a83",
   "metadata": {},
   "outputs": [
    {
     "name": "stdout",
     "output_type": "stream",
     "text": [
      "Number of Checking Accounts:  0\n",
      "Account Balance: 0.0\n",
      "Account Balance: 100.0\n",
      "Account Balance: 200.0\n",
      "Number of Checking Accounts:  3\n"
     ]
    }
   ],
   "source": [
    "class Account:\n",
    "    def __init__(self, balance):\n",
    "        self._balance = balance \n",
    "    def getBalance(self): \n",
    "        return self._balance\n",
    "\n",
    "class CheckingAccount(Account):\n",
    "    numberOfAccount=0\n",
    "    def  __init__(self, balance=0.0):\n",
    "        self._balance= balance\n",
    "        CheckingAccount.numberOfAccount+= 1\n",
    "    def __str__(self):\n",
    "        return f\"Account Balance: {self._balance}\"\n",
    "\n",
    "print('Number of Checking Accounts: ', CheckingAccount.numberOfAccount)\n",
    "print(CheckingAccount()) \n",
    "print(CheckingAccount(100.00))\n",
    "print(CheckingAccount(200.00)) \n",
    "print('Number of Checking Accounts: ', CheckingAccount.numberOfAccount)"
   ]
  },
  {
   "cell_type": "markdown",
   "id": "01c43dd8",
   "metadata": {},
   "source": [
    "# Task 4"
   ]
  },
  {
   "cell_type": "code",
   "execution_count": 19,
   "id": "48352955",
   "metadata": {},
   "outputs": [
    {
     "name": "stdout",
     "output_type": "stream",
     "text": [
      "----Printing Detail----\n",
      "Do not eat the Mango .\n",
      "Mangos are bad for you\n",
      "----Printing Detail----\n",
      "Eat the Jackfruit .\n",
      "Jackfruits are good for you\n"
     ]
    }
   ],
   "source": [
    "class Fruit: \n",
    "    def __init__(self, formalin=False, name=''): \n",
    "        self.__formalin = formalin \n",
    "        self.name = name \n",
    "    def getName(self): \n",
    "        return self.name \n",
    "    def hasFormalin(self): \n",
    "        return self.__formalin \n",
    "class testFruit: \n",
    "    def test(self, f): \n",
    "        print('----Printing Detail----') \n",
    "        if f.hasFormalin(): \n",
    "            print('Do not eat the',f.getName(),'.') \n",
    "            print(f) \n",
    "        else: \n",
    "            print('Eat the',f.getName(),'.') \n",
    "            print(f)\n",
    "class Mango(Fruit):\n",
    "    def __init__(self, formalin=True ,name=\"Mango\"):\n",
    "        super().__init__(formalin,name)\n",
    "    def __str__(self):\n",
    "        return \"Mangos are bad for you\"\n",
    "class Jackfruit(Fruit):\n",
    "    def __init__(self, formalin=False, name=\"Jackfruit\"):\n",
    "        super().__init__(formalin, name)\n",
    "    def __str__(self):\n",
    "        return \"Jackfruits are good for you\"\n",
    "m = Mango() \n",
    "j = Jackfruit() \n",
    "t1 = testFruit() \n",
    "t1.test(m) \n",
    "t1.test(j)\n"
   ]
  },
  {
   "cell_type": "markdown",
   "id": "eb4db028",
   "metadata": {},
   "source": [
    "# Task 5"
   ]
  },
  {
   "cell_type": "code",
   "execution_count": 32,
   "id": "81c61b13",
   "metadata": {},
   "outputs": [
    {
     "name": "stdout",
     "output_type": "stream",
     "text": [
      "Marks: 100 Time: 90 minutes Number of Parts: 4\n",
      "----------------------------------\n",
      "Maths , English , Physics , HigherMaths\n",
      "Part 1 - Maths\n",
      "Part 2 - English\n",
      "Part 3 - Physics\n",
      "Part 3 - HigherMaths\n",
      "==================================\n",
      "Marks: 100 Time: 120 minutes Number of Parts: 5\n",
      "----------------------------------\n",
      "Maths , English , Physics , HigherMaths , Drawing\n",
      "Part 1 - Maths\n",
      "Part 2 - English\n",
      "Part 3 - Physics\n",
      "Part 3 - HigherMaths\n",
      "Part 3 - Drawing\n"
     ]
    }
   ],
   "source": [
    "class Exam: \n",
    "    def __init__(self,marks): \n",
    "        self.marks = marks \n",
    "        self.time = 60 \n",
    "    def examSyllabus(self): \n",
    "        return \"Maths , English\" \n",
    "    def examParts(self): \n",
    "        return \"Part 1 - Maths\\nPart 2 - English\\n\"     \n",
    "class ScienceExam(Exam):\n",
    "    def __init__(self,marks,time,*subjects):\n",
    "        super().__init__(marks)\n",
    "        self.time=time\n",
    "        self.subjects=list(subjects)\n",
    "    def __str__(self):\n",
    "        return f\"Marks: {self.marks} Time: {self.time} minutes Number of Parts: {len(self.subjects)+2}\"\n",
    "    def examSyllabus(self):\n",
    "        return super().examSyllabus()+\" , \"+\" , \".join(self.subjects)\n",
    "    def examParts(self):\n",
    "        part= super().examParts()\n",
    "        count=3\n",
    "        for x in self.subjects:\n",
    "            part+=f\"Part {count} - {x}\\n\"\n",
    "        return part[:-1]    \n",
    "                   \n",
    "engineering = ScienceExam(100,90,\"Physics\",\"HigherMaths\") \n",
    "print(engineering) \n",
    "print('----------------------------------') \n",
    "print(engineering.examSyllabus()) \n",
    "print(engineering.examParts()) \n",
    "print('==================================') \n",
    "architecture = ScienceExam(100,120,\"Physics\",\"HigherMaths\",\"Drawing\") \n",
    "print(architecture) \n",
    "print('----------------------------------') \n",
    "print(architecture.examSyllabus()) \n",
    "print(architecture.examParts())"
   ]
  },
  {
   "cell_type": "markdown",
   "id": "56bd54d6",
   "metadata": {},
   "source": [
    "# Task 6"
   ]
  },
  {
   "cell_type": "code",
   "execution_count": 1,
   "id": "06d98995",
   "metadata": {},
   "outputs": [
    {
     "name": "stdout",
     "output_type": "stream",
     "text": [
      "Shape name: Sphere, Area Formula: 4 * pi * r * r\n",
      "----------------------------------\n",
      "Radius: 5, Height: No need\n",
      "Area: 314.159\n",
      "==================================\n",
      "Shape name: Cylinder, Area Formula: 2 * pi * r * (r+h)\n",
      "----------------------------------\n",
      "Radius: 5, Height: 10\n",
      "Area: 471.2385\n"
     ]
    }
   ],
   "source": [
    "class Shape3D: \n",
    "    pi = 3.14159 \n",
    "    def __init__(self, name = 'Default', radius = 0): \n",
    "        self._area = 0 \n",
    "        self._name = name \n",
    "        self._height = 'No need' \n",
    "        self._radius = radius \n",
    "    def calc_surface_area(self): \n",
    "        return 2 * Shape3D.pi * self._radius \n",
    "    def __str__(self): \n",
    "        return \"Radius: \"+str(self._radius) \n",
    "class Sphere(Shape3D):\n",
    "    def __init__(self, name, radius):\n",
    "        super().__init__(name, radius)\n",
    "        print(f\"Shape name: {self._name}, Area Formula: 4 * pi * r * r\")\n",
    "    def calc_surface_area(self): \n",
    "        self._area = super().calc_surface_area() * 2 * self._radius  \n",
    "    def __str__(self):\n",
    "        return f\"Radius: {self._radius}, Height: {self._height}\\nArea: {self._area}\"\n",
    "class Cylinder(Shape3D) :\n",
    "    def __init__(self,name, radius, height):\n",
    "        super().__init__(name, radius)\n",
    "        self._height= height\n",
    "        print(f\"Shape name: {self._name}, Area Formula: 2 * pi * r * (r+h)\")\n",
    "    def calc_surface_area(self): \n",
    "        self._area = super().calc_surface_area() * (self._radius+self._height)\n",
    "    def __str__(self):\n",
    "        return f\"Radius: {self._radius}, Height: {self._height}\\nArea: {self._area}\"\n",
    "    \n",
    "sph = Sphere('Sphere', 5) \n",
    "print('----------------------------------') \n",
    "sph.calc_surface_area() \n",
    "print(sph) \n",
    "print('==================================') \n",
    "cyl = Cylinder('Cylinder', 5, 10) \n",
    "print('----------------------------------') \n",
    "cyl.calc_surface_area() \n",
    "print(cyl)"
   ]
  },
  {
   "cell_type": "code",
   "execution_count": 10,
   "id": "ca5b34e2",
   "metadata": {},
   "outputs": [
    {
     "name": "stdout",
     "output_type": "stream",
     "text": [
      "8\n",
      "2+1i\n",
      "3+5i\n",
      "5+6i\n",
      "-1+-4i\n"
     ]
    }
   ],
   "source": [
    "class RealNumber:\n",
    "    def __init__(self, number=0):\n",
    "        self.number = number\n",
    "    def __add__(self, anotherRealNumber):\n",
    "        return self.number + anotherRealNumber.number\n",
    "    def __sub__(self, anotherRealNumber):\n",
    "        return self.number - anotherRealNumber.number\n",
    "    def __str__(self):\n",
    "        return str(self.number)\n",
    "\n",
    "class ComplexNumber(RealNumber):\n",
    "  def __init__(self,number,img):\n",
    "    super().__init__(number)\n",
    "    self.img=img\n",
    "\n",
    "  def __add__(self,other):\n",
    "    return f'{self.number + int(other.number.__str__())}+{self.img+other.img}i'\n",
    "\n",
    "\n",
    "\n",
    "  def __sub__(self,other):\n",
    "    return f'{self.number - int(other.number.__str__())}+{self.img-other.img}i'\n",
    "\n",
    "  def __str__(self):\n",
    "    return f'{self.number}+{self.img}i'\n",
    "\n",
    "\n",
    "#object.varname.parentmethod\n",
    "r1 = RealNumber(3)\n",
    "r2 = RealNumber(5)\n",
    "print(r1+r2)\n",
    "cn1 = ComplexNumber(2, 1)\n",
    "print(cn1)\n",
    "cn2 = ComplexNumber(r1, 5)\n",
    "print(cn2)\n",
    "cn3 = cn1 + cn2\n",
    "print(cn3)\n",
    "cn4 = cn1 - cn2\n",
    "print(cn4)"
   ]
  },
  {
   "cell_type": "markdown",
   "id": "30dcaef5",
   "metadata": {},
   "source": [
    "# Task 7"
   ]
  },
  {
   "cell_type": "code",
   "execution_count": 36,
   "id": "77b309b1",
   "metadata": {},
   "outputs": [
    {
     "name": "stdout",
     "output_type": "stream",
     "text": [
      "\n",
      "------------Basic Info:--------------\n",
      "Name: Default, HP: 0, Weakness: None\n",
      "Main type: Unknown\n",
      "Basic move: Quick Attack\n",
      "\n",
      "------------Pokemon 1 Info:-------------\n",
      "Name: Charmander, HP: 39, Weakness: Water\n",
      "Main type: Fire\n",
      "Basic move: Quick Attack\n",
      "\n",
      "------------Pokemon 2 Info:-------------\n",
      "Name: Charizard, HP: 78, Weakness: Water\n",
      "Main type: Fire,  Secondary type: Flying\n",
      "Basic move: Quick Attack\n",
      "Other move: Fire Spin, Fire Blaze\n"
     ]
    }
   ],
   "source": [
    "class PokemonBasic: \n",
    "    def __init__(self, name = 'Default', hp = 0, weakness = 'None', type = 'Unknown'): \n",
    "        self.name = name \n",
    "        self.hit_point = hp \n",
    "        self.weakness = weakness \n",
    "        self.type = type \n",
    "        \n",
    "    def get_type(self): \n",
    "        return 'Main type: ' + self.type \n",
    "    \n",
    "    def get_move(self): \n",
    "        return 'Basic move: ' + 'Quick Attack' \n",
    "    \n",
    "    def __str__(self): \n",
    "        return \"Name: \" + self.name + \", HP: \" + str(self.hit_point) + \", Weakness: \" + self.weakness\n",
    "class PokemonExtra(PokemonBasic):\n",
    "    def __init__(self, name, hp, weakness, type, new_type= None, new_move= None):\n",
    "        super().__init__(name, hp, weakness, type)\n",
    "        self.new_type=new_type\n",
    "        self.new_move=new_move\n",
    "    def get_type(self):\n",
    "        if self.new_type == None:\n",
    "            return super().get_type()\n",
    "        else:\n",
    "            return super().get_type()+\", \"+\" Secondary type: \"+ str(self.new_type)\n",
    "    def get_move(self):\n",
    "        if self.new_move == None:\n",
    "            return super().get_move()\n",
    "        else:\n",
    "            return super().get_move()+\"\\nOther move: \"+\", \".join(self.new_move) \n",
    "    \n",
    "print('\\n------------Basic Info:--------------') \n",
    "pk = PokemonBasic() \n",
    "print(pk) \n",
    "print(pk.get_type()) \n",
    "print(pk.get_move()) \n",
    "print('\\n------------Pokemon 1 Info:-------------') \n",
    "charmander = PokemonExtra('Charmander', 39, 'Water', 'Fire') \n",
    "print(charmander) \n",
    "print(charmander.get_type()) \n",
    "print(charmander.get_move()) \n",
    "print('\\n------------Pokemon 2 Info:-------------') \n",
    "charizard = PokemonExtra('Charizard', 78, 'Water', 'Fire', 'Flying', ('Fire Spin', 'Fire Blaze')) \n",
    "print(charizard) \n",
    "print(charizard.get_type()) \n",
    "print(charizard.get_move())"
   ]
  },
  {
   "cell_type": "markdown",
   "id": "c3b9c828",
   "metadata": {},
   "source": [
    "# Task 8"
   ]
  },
  {
   "cell_type": "code",
   "execution_count": 27,
   "id": "4429ad28",
   "metadata": {},
   "outputs": [
    {
     "name": "stdout",
     "output_type": "stream",
     "text": [
      "=========================\n",
      "Total Player: 11\n",
      "Our name is Brazil\n",
      "We play Football\n",
      "We love sports\n",
      "=========================\n",
      "Total Player: 11\n",
      "Our name is Bangladesh\n",
      "We play Cricket\n",
      "We love sports\n"
     ]
    }
   ],
   "source": [
    "class Team:\n",
    "    def __init__(self, name):\n",
    "        self.name = \"default\"\n",
    "        self.total_player = 5\n",
    "    def info(self):\n",
    "        print(\"We love sports\")\n",
    "class FootBallTeam(Team):\n",
    "    def __init__(self, name):\n",
    "        super().__init__(name)\n",
    "        self.name= name\n",
    "        self.total_player = 11\n",
    "    def info(self):\n",
    "        print(\"Our name is\", self.name)\n",
    "        print(\"We play Football\")\n",
    "        super().info()\n",
    "class CricketTeam(Team):\n",
    "    def __init__(self,name):\n",
    "        super().__init__(name)\n",
    "        self.name= name\n",
    "        self.total_player= 11\n",
    "    def info(self):\n",
    "        print(\"Our name is\", self.name)\n",
    "        print(\"We play Cricket\")\n",
    "        super().info()    \n",
    "class Team_test:\n",
    "    def check(self, tm):\n",
    "        print(\"=========================\")\n",
    "        print(\"Total Player:\", tm.total_player)\n",
    "        tm.info()\n",
    "                \n",
    "f = FootBallTeam(\"Brazil\")\n",
    "c = CricketTeam(\"Bangladesh\")\n",
    "test = Team_test()\n",
    "test.check(f)\n",
    "test.check(c)"
   ]
  },
  {
   "cell_type": "markdown",
   "id": "1d7e20cc",
   "metadata": {},
   "source": [
    "# Task 9"
   ]
  },
  {
   "cell_type": "code",
   "execution_count": 55,
   "id": "0d3233a9",
   "metadata": {},
   "outputs": [
    {
     "name": "stdout",
     "output_type": "stream",
     "text": [
      "Pokemon: Pikachu\n",
      "Type: Electric\n",
      "Weakness: Ground\n",
      "I am a Pokemon.\n",
      "I am Pikachu.\n",
      "========================\n",
      "Pokemon: Charmander\n",
      "Type: Fire\n",
      "Weakness: Water, Ground and Rock\n",
      "I am a Pokemon.\n",
      "I am Charmander.\n"
     ]
    }
   ],
   "source": [
    "class Pokemon:\n",
    "    def __init__(self, p):\n",
    "        self.pokemon = p\n",
    "        self.pokemon_type = \"Needs to be set\"\n",
    "        self.pokemon_weakness = \"Needs to be set\"\n",
    "    def kind(self):\n",
    "        return self.pokemon_type\n",
    "    def weakness(self):\n",
    "        return self.pokemon_weakness\n",
    "    def what_am_i(self):\n",
    "        print(\"I am a Pokemon.\")\n",
    "class Pikachu(Pokemon):\n",
    "    def __init__(self):\n",
    "        self.pokemon= \"Pikachu\"\n",
    "        self.pokemon_type = \"Electric\"\n",
    "        self.pokemon_weakness = \"Ground\"\n",
    "    def what_am_i(self):\n",
    "        super().what_am_i()\n",
    "        print(\"I am Pikachu.\")\n",
    "class Charmander(Pokemon):\n",
    "    def __init__(self):\n",
    "        self.pokemon= \"Charmander\"\n",
    "        self.pokemon_type = \"Fire\"\n",
    "        self.pokemon_weakness = \"Water, Ground and Rock\"\n",
    "    def what_am_i(self):\n",
    "        super().what_am_i()\n",
    "        print(\"I am Charmander.\")\n",
    "        \n",
    "pk1 = Pikachu()\n",
    "print(\"Pokemon:\", pk1.pokemon)\n",
    "print(\"Type:\", pk1.kind())\n",
    "print(\"Weakness:\", pk1.weakness())\n",
    "pk1.what_am_i()\n",
    "print(\"========================\")\n",
    "c1 = Charmander()\n",
    "print(\"Pokemon:\", c1.pokemon)\n",
    "print(\"Type:\", c1.kind())\n",
    "print(\"Weakness:\", c1.weakness())\n",
    "c1.what_am_i()"
   ]
  },
  {
   "cell_type": "markdown",
   "id": "ca023973",
   "metadata": {},
   "source": [
    "# Task 10"
   ]
  },
  {
   "cell_type": "code",
   "execution_count": 42,
   "id": "3592de76",
   "metadata": {},
   "outputs": [
    {
     "name": "stdout",
     "output_type": "stream",
     "text": [
      "Name: Rahim\n",
      "ID: 16101328\n",
      "Courses Approved to this CSE student in Spring2016 semester :\n",
      "CSE110\n",
      "MAT110\n",
      "ENG101\n",
      "==================\n",
      "Name: Tanzim\n",
      "ID: 18101326\n",
      "Courses Approved to this CSE student in Spring2018 semester :\n",
      "Mat110\n",
      "PHY111\n",
      "ENG101\n",
      "==================\n",
      "Name: Rudana\n",
      "ID: 18101326\n",
      "Courses Approved to this CSE student in Fall2017 semester :\n",
      "CSE111\n",
      "PHY101\n",
      "MAT120\n",
      "==================\n",
      "Name: Zainab\n",
      "ID: 19201623\n",
      "Courses Approved to this CSE student in Summer2019 semester :\n",
      "EEE201\n",
      "PHY112\n",
      "MAT120\n"
     ]
    }
   ],
   "source": [
    "class Department:\n",
    "    def __init__(self, s):\n",
    "        self.semester = s\n",
    "        self.name = \"Default\"\n",
    "        self.id = -1\n",
    "    def student_info(self):\n",
    "        print(\"Name:\", self.name)\n",
    "        print(\"ID:\", self.id)\n",
    "    def courses(self, c1, c2, c3):\n",
    "        print(\"No courses Approved yet!\")       \n",
    "class CSE(Department):\n",
    "    def __init__(self, name,ID,s1):\n",
    "        super().__init__(s1)\n",
    "        self.name= name\n",
    "        self.id= ID\n",
    "    def courses(self,*courses):\n",
    "        print(f\"Courses Approved to this CSE student in {self.semester} semester :\")\n",
    "        for x in courses:\n",
    "            print(x)\n",
    "class EEE(Department):\n",
    "    def __init__(self, name, ID,s1):\n",
    "        super().__init__(s1)\n",
    "        self.name = name\n",
    "        self.id= ID\n",
    "    def courses(self, *courses):\n",
    "        print(f\"Courses Approved to this CSE student in {self.semester} semester :\")\n",
    "        for x in courses:\n",
    "            print(x)\n",
    "        \n",
    "s1 = CSE(\"Rahim\", 16101328,\"Spring2016\")\n",
    "s1.student_info()\n",
    "s1.courses(\"CSE110\", \"MAT110\", \"ENG101\")\n",
    "print(\"==================\")\n",
    "s2 = EEE(\"Tanzim\", 18101326, \"Spring2018\")\n",
    "s2.student_info()\n",
    "s2.courses(\"Mat110\", \"PHY111\", \"ENG101\")\n",
    "print(\"==================\")\n",
    "s3 = CSE(\"Rudana\", 18101326, \"Fall2017\")\n",
    "s3.student_info()\n",
    "s3.courses(\"CSE111\", \"PHY101\", \"MAT120\")\n",
    "print(\"==================\")\n",
    "s4 = EEE(\"Zainab\", 19201623, \"Summer2019\")\n",
    "s4.student_info()\n",
    "s4.courses(\"EEE201\", \"PHY112\", \"MAT120\")"
   ]
  }
 ],
 "metadata": {
  "kernelspec": {
   "display_name": "Python 3 (ipykernel)",
   "language": "python",
   "name": "python3"
  },
  "language_info": {
   "codemirror_mode": {
    "name": "ipython",
    "version": 3
   },
   "file_extension": ".py",
   "mimetype": "text/x-python",
   "name": "python",
   "nbconvert_exporter": "python",
   "pygments_lexer": "ipython3",
   "version": "3.9.13"
  }
 },
 "nbformat": 4,
 "nbformat_minor": 5
}
